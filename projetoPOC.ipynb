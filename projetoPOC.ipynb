{
  "nbformat": 4,
  "nbformat_minor": 0,
  "metadata": {
    "colab": {
      "name": "projetoPOC.ipynb",
      "provenance": [],
      "collapsed_sections": [],
      "authorship_tag": "ABX9TyN1dgYt6bvgJ8D2Ug3XJyNT",
      "include_colab_link": true
    },
    "kernelspec": {
      "name": "python3",
      "display_name": "Python 3"
    }
  },
  "cells": [
    {
      "cell_type": "markdown",
      "metadata": {
        "id": "view-in-github",
        "colab_type": "text"
      },
      "source": [
        "<a href=\"https://colab.research.google.com/github/rogercsampaio/PowerBI-DataScience/blob/master/projetoPOC.ipynb\" target=\"_parent\"><img src=\"https://colab.research.google.com/assets/colab-badge.svg\" alt=\"Open In Colab\"/></a>"
      ]
    },
    {
      "cell_type": "code",
      "metadata": {
        "id": "Zb2RdyRf9laC",
        "colab_type": "code",
        "colab": {}
      },
      "source": [
        ""
      ],
      "execution_count": null,
      "outputs": []
    },
    {
      "cell_type": "markdown",
      "metadata": {
        "id": "w1lsTXCf2ooD",
        "colab_type": "text"
      },
      "source": [
        "# Projeto: Prever Insuficiência Cardíaca baseado em fatores clínicos e comportamentais"
      ]
    },
    {
      "cell_type": "markdown",
      "metadata": {
        "id": "ca_4oeXW2vhj",
        "colab_type": "text"
      },
      "source": [
        "A Insuficiência Cardíaca (causada por doenças cardiovasculares) é a principal\n",
        "causa de morte de vidas todos os anos, representando um percentual de 31% de todas as mortes mundiais. Este conjunto de dados contém doze características divididas em fatores clínicos e comportamentais como, por exemplo, nível de plaquetas e sódio sérico no sangue, fumante ou não, hipertenso ou não e pode ser utilizado para prever a mortalidade por doenças cardiovasculares. Objetivo do trabalho é realizar uma análise exploratória sobre o conjunto de dados e descobrir uma série de insights para auxiliar a equipe médica para a tomada de ações preventivas."
      ]
    },
    {
      "cell_type": "code",
      "metadata": {
        "id": "U2hiIH_72_Gc",
        "colab_type": "code",
        "colab": {}
      },
      "source": [
        "# 1 - Instale o pacote 'squarify' caso não possua\n",
        "!pip install squarify\n",
        "\n",
        "# 2 - Importação de pacotes e bibliotecas necessárias\n",
        "import pandas as pd\n",
        "import matplotlib.pyplot as plt\n",
        "import seaborn as sns\n",
        "import squarify \n",
        "import requests \n",
        "\n",
        "%matplotlib inline"
      ],
      "execution_count": null,
      "outputs": []
    },
    {
      "cell_type": "code",
      "metadata": {
        "id": "61izVu1y9Hc6",
        "colab_type": "code",
        "colab": {}
      },
      "source": [
        "link = 'https://raw.githubusercontent.com/rogercsampaio/projetos/master/ProjetoPOC/datasets/heart_failure_clinical_records_dataset.csv'\n",
        "s = requests.get(link).text"
      ],
      "execution_count": null,
      "outputs": []
    },
    {
      "cell_type": "code",
      "metadata": {
        "id": "LPEG08Ra3Guw",
        "colab_type": "code",
        "colab": {}
      },
      "source": [
        "# 2 - Importando os dados para o dataset\n",
        "# heart_failure_clinical_records_dataset.csv\n",
        "dadosClinicos = pd.read_csv(io.StringIO(s))"
      ],
      "execution_count": null,
      "outputs": []
    },
    {
      "cell_type": "code",
      "metadata": {
        "id": "AjgoPsKT2zZj",
        "colab_type": "code",
        "colab": {
          "base_uri": "https://localhost:8080/",
          "height": 224
        },
        "outputId": "531fd6ca-8f9e-424f-d06f-fbf09beba728"
      },
      "source": [
        "# Visualizando os primeiros registros e tipos de dados\n",
        "dadosClinicos.head()"
      ],
      "execution_count": null,
      "outputs": [
        {
          "output_type": "execute_result",
          "data": {
            "text/html": [
              "<div>\n",
              "<style scoped>\n",
              "    .dataframe tbody tr th:only-of-type {\n",
              "        vertical-align: middle;\n",
              "    }\n",
              "\n",
              "    .dataframe tbody tr th {\n",
              "        vertical-align: top;\n",
              "    }\n",
              "\n",
              "    .dataframe thead th {\n",
              "        text-align: right;\n",
              "    }\n",
              "</style>\n",
              "<table border=\"1\" class=\"dataframe\">\n",
              "  <thead>\n",
              "    <tr style=\"text-align: right;\">\n",
              "      <th></th>\n",
              "      <th>age</th>\n",
              "      <th>anaemia</th>\n",
              "      <th>creatinine_phosphokinase</th>\n",
              "      <th>diabetes</th>\n",
              "      <th>ejection_fraction</th>\n",
              "      <th>high_blood_pressure</th>\n",
              "      <th>platelets</th>\n",
              "      <th>serum_creatinine</th>\n",
              "      <th>serum_sodium</th>\n",
              "      <th>sex</th>\n",
              "      <th>smoking</th>\n",
              "      <th>time</th>\n",
              "      <th>DEATH_EVENT</th>\n",
              "    </tr>\n",
              "  </thead>\n",
              "  <tbody>\n",
              "    <tr>\n",
              "      <th>0</th>\n",
              "      <td>75.0</td>\n",
              "      <td>0</td>\n",
              "      <td>582</td>\n",
              "      <td>0</td>\n",
              "      <td>20</td>\n",
              "      <td>1</td>\n",
              "      <td>265000.00</td>\n",
              "      <td>1.9</td>\n",
              "      <td>130</td>\n",
              "      <td>1</td>\n",
              "      <td>0</td>\n",
              "      <td>4</td>\n",
              "      <td>1</td>\n",
              "    </tr>\n",
              "    <tr>\n",
              "      <th>1</th>\n",
              "      <td>55.0</td>\n",
              "      <td>0</td>\n",
              "      <td>7861</td>\n",
              "      <td>0</td>\n",
              "      <td>38</td>\n",
              "      <td>0</td>\n",
              "      <td>263358.03</td>\n",
              "      <td>1.1</td>\n",
              "      <td>136</td>\n",
              "      <td>1</td>\n",
              "      <td>0</td>\n",
              "      <td>6</td>\n",
              "      <td>1</td>\n",
              "    </tr>\n",
              "    <tr>\n",
              "      <th>2</th>\n",
              "      <td>65.0</td>\n",
              "      <td>0</td>\n",
              "      <td>146</td>\n",
              "      <td>0</td>\n",
              "      <td>20</td>\n",
              "      <td>0</td>\n",
              "      <td>162000.00</td>\n",
              "      <td>1.3</td>\n",
              "      <td>129</td>\n",
              "      <td>1</td>\n",
              "      <td>1</td>\n",
              "      <td>7</td>\n",
              "      <td>1</td>\n",
              "    </tr>\n",
              "    <tr>\n",
              "      <th>3</th>\n",
              "      <td>50.0</td>\n",
              "      <td>1</td>\n",
              "      <td>111</td>\n",
              "      <td>0</td>\n",
              "      <td>20</td>\n",
              "      <td>0</td>\n",
              "      <td>210000.00</td>\n",
              "      <td>1.9</td>\n",
              "      <td>137</td>\n",
              "      <td>1</td>\n",
              "      <td>0</td>\n",
              "      <td>7</td>\n",
              "      <td>1</td>\n",
              "    </tr>\n",
              "    <tr>\n",
              "      <th>4</th>\n",
              "      <td>65.0</td>\n",
              "      <td>1</td>\n",
              "      <td>160</td>\n",
              "      <td>1</td>\n",
              "      <td>20</td>\n",
              "      <td>0</td>\n",
              "      <td>327000.00</td>\n",
              "      <td>2.7</td>\n",
              "      <td>116</td>\n",
              "      <td>0</td>\n",
              "      <td>0</td>\n",
              "      <td>8</td>\n",
              "      <td>1</td>\n",
              "    </tr>\n",
              "  </tbody>\n",
              "</table>\n",
              "</div>"
            ],
            "text/plain": [
              "    age  anaemia  creatinine_phosphokinase  ...  smoking  time  DEATH_EVENT\n",
              "0  75.0        0                       582  ...        0     4            1\n",
              "1  55.0        0                      7861  ...        0     6            1\n",
              "2  65.0        0                       146  ...        1     7            1\n",
              "3  50.0        1                       111  ...        0     7            1\n",
              "4  65.0        1                       160  ...        0     8            1\n",
              "\n",
              "[5 rows x 13 columns]"
            ]
          },
          "metadata": {
            "tags": []
          },
          "execution_count": 74
        }
      ]
    },
    {
      "cell_type": "code",
      "metadata": {
        "id": "S3UkEJLV4FpE",
        "colab_type": "code",
        "colab": {
          "base_uri": "https://localhost:8080/",
          "height": 34
        },
        "outputId": "02082016-a66d-4c5a-e166-e3faf6776a66"
      },
      "source": [
        "print(type(dadosClinicos))"
      ],
      "execution_count": null,
      "outputs": [
        {
          "output_type": "stream",
          "text": [
            "<class 'pandas.core.frame.DataFrame'>\n"
          ],
          "name": "stdout"
        }
      ]
    },
    {
      "cell_type": "code",
      "metadata": {
        "id": "Kkjf0xDo4KXQ",
        "colab_type": "code",
        "colab": {
          "base_uri": "https://localhost:8080/",
          "height": 255
        },
        "outputId": "e388b05f-8886-4290-bc2d-7bdd091f78d2"
      },
      "source": [
        "dadosClinicos.dtypes"
      ],
      "execution_count": null,
      "outputs": [
        {
          "output_type": "execute_result",
          "data": {
            "text/plain": [
              "age                         float64\n",
              "anaemia                       int64\n",
              "creatinine_phosphokinase      int64\n",
              "diabetes                      int64\n",
              "ejection_fraction             int64\n",
              "high_blood_pressure           int64\n",
              "platelets                   float64\n",
              "serum_creatinine            float64\n",
              "serum_sodium                  int64\n",
              "sex                           int64\n",
              "smoking                       int64\n",
              "time                          int64\n",
              "DEATH_EVENT                   int64\n",
              "dtype: object"
            ]
          },
          "metadata": {
            "tags": []
          },
          "execution_count": 48
        }
      ]
    },
    {
      "cell_type": "code",
      "metadata": {
        "id": "VAQMz1GU4FuF",
        "colab_type": "code",
        "colab": {
          "base_uri": "https://localhost:8080/",
          "height": 419
        },
        "outputId": "7f726532-e6c5-4983-9358-35a3bac72934"
      },
      "source": [
        "dadosClinicos"
      ],
      "execution_count": null,
      "outputs": [
        {
          "output_type": "execute_result",
          "data": {
            "text/html": [
              "<div>\n",
              "<style scoped>\n",
              "    .dataframe tbody tr th:only-of-type {\n",
              "        vertical-align: middle;\n",
              "    }\n",
              "\n",
              "    .dataframe tbody tr th {\n",
              "        vertical-align: top;\n",
              "    }\n",
              "\n",
              "    .dataframe thead th {\n",
              "        text-align: right;\n",
              "    }\n",
              "</style>\n",
              "<table border=\"1\" class=\"dataframe\">\n",
              "  <thead>\n",
              "    <tr style=\"text-align: right;\">\n",
              "      <th></th>\n",
              "      <th>age,anaemia,creatinine_phosphokinase,diabetes,ejection_fraction,high_blood_pressure,platelets,serum_creatinine,serum_sodium,sex,smoking,time,DEATH_EVENT</th>\n",
              "    </tr>\n",
              "  </thead>\n",
              "  <tbody>\n",
              "    <tr>\n",
              "      <th>0</th>\n",
              "      <td>75,0,582,0,20,1,265000,1.9,130,1,0,4,1</td>\n",
              "    </tr>\n",
              "    <tr>\n",
              "      <th>1</th>\n",
              "      <td>55,0,7861,0,38,0,263358.03,1.1,136,1,0,6,1</td>\n",
              "    </tr>\n",
              "    <tr>\n",
              "      <th>2</th>\n",
              "      <td>65,0,146,0,20,0,162000,1.3,129,1,1,7,1</td>\n",
              "    </tr>\n",
              "    <tr>\n",
              "      <th>3</th>\n",
              "      <td>50,1,111,0,20,0,210000,1.9,137,1,0,7,1</td>\n",
              "    </tr>\n",
              "    <tr>\n",
              "      <th>4</th>\n",
              "      <td>65,1,160,1,20,0,327000,2.7,116,0,0,8,1</td>\n",
              "    </tr>\n",
              "    <tr>\n",
              "      <th>...</th>\n",
              "      <td>...</td>\n",
              "    </tr>\n",
              "    <tr>\n",
              "      <th>294</th>\n",
              "      <td>62,0,61,1,38,1,155000,1.1,143,1,1,270,0</td>\n",
              "    </tr>\n",
              "    <tr>\n",
              "      <th>295</th>\n",
              "      <td>55,0,1820,0,38,0,270000,1.2,139,0,0,271,0</td>\n",
              "    </tr>\n",
              "    <tr>\n",
              "      <th>296</th>\n",
              "      <td>45,0,2060,1,60,0,742000,0.8,138,0,0,278,0</td>\n",
              "    </tr>\n",
              "    <tr>\n",
              "      <th>297</th>\n",
              "      <td>45,0,2413,0,38,0,140000,1.4,140,1,1,280,0</td>\n",
              "    </tr>\n",
              "    <tr>\n",
              "      <th>298</th>\n",
              "      <td>50,0,196,0,45,0,395000,1.6,136,1,1,285,0</td>\n",
              "    </tr>\n",
              "  </tbody>\n",
              "</table>\n",
              "<p>299 rows × 1 columns</p>\n",
              "</div>"
            ],
            "text/plain": [
              "    age,anaemia,creatinine_phosphokinase,diabetes,ejection_fraction,high_blood_pressure,platelets,serum_creatinine,serum_sodium,sex,smoking,time,DEATH_EVENT\n",
              "0               75,0,582,0,20,1,265000,1.9,130,1,0,4,1                                                                                                      \n",
              "1           55,0,7861,0,38,0,263358.03,1.1,136,1,0,6,1                                                                                                      \n",
              "2               65,0,146,0,20,0,162000,1.3,129,1,1,7,1                                                                                                      \n",
              "3               50,1,111,0,20,0,210000,1.9,137,1,0,7,1                                                                                                      \n",
              "4               65,1,160,1,20,0,327000,2.7,116,0,0,8,1                                                                                                      \n",
              "..                                                 ...                                                                                                      \n",
              "294            62,0,61,1,38,1,155000,1.1,143,1,1,270,0                                                                                                      \n",
              "295          55,0,1820,0,38,0,270000,1.2,139,0,0,271,0                                                                                                      \n",
              "296          45,0,2060,1,60,0,742000,0.8,138,0,0,278,0                                                                                                      \n",
              "297          45,0,2413,0,38,0,140000,1.4,140,1,1,280,0                                                                                                      \n",
              "298           50,0,196,0,45,0,395000,1.6,136,1,1,285,0                                                                                                      \n",
              "\n",
              "[299 rows x 1 columns]"
            ]
          },
          "metadata": {
            "tags": []
          },
          "execution_count": 35
        }
      ]
    },
    {
      "cell_type": "code",
      "metadata": {
        "id": "D37xXdbm4Fw-",
        "colab_type": "code",
        "colab": {}
      },
      "source": [
        "# Ajustando os tipos de dados, renomeando colunas."
      ],
      "execution_count": null,
      "outputs": []
    },
    {
      "cell_type": "code",
      "metadata": {
        "id": "bzv6sFbV4Fz9",
        "colab_type": "code",
        "colab": {}
      },
      "source": [
        "dadosClinicos.age = dadosClinicos.age.astype(int)"
      ],
      "execution_count": null,
      "outputs": []
    },
    {
      "cell_type": "code",
      "metadata": {
        "id": "h8HEUIf54F25",
        "colab_type": "code",
        "colab": {}
      },
      "source": [
        "dadosClinicos.anaemia = dadosClinicos.anaemia.astype(bool)"
      ],
      "execution_count": null,
      "outputs": []
    },
    {
      "cell_type": "code",
      "metadata": {
        "id": "SDJbIwtC4WSB",
        "colab_type": "code",
        "colab": {}
      },
      "source": [
        "dadosClinicos.diabetes = dadosClinicos.diabetes.astype(bool)"
      ],
      "execution_count": null,
      "outputs": []
    },
    {
      "cell_type": "code",
      "metadata": {
        "id": "9K2T89oI4WZY",
        "colab_type": "code",
        "colab": {}
      },
      "source": [
        "dadosClinicos.high_blood_pressure = dadosClinicos.high_blood_pressure.astype(bool)"
      ],
      "execution_count": null,
      "outputs": []
    },
    {
      "cell_type": "code",
      "metadata": {
        "id": "Z3eJynqw4Wg6",
        "colab_type": "code",
        "colab": {}
      },
      "source": [
        "dadosClinicos['sex'] = dadosClinicos['sex'].replace(0, 'F')"
      ],
      "execution_count": null,
      "outputs": []
    },
    {
      "cell_type": "code",
      "metadata": {
        "id": "PWSGJleV4dAr",
        "colab_type": "code",
        "colab": {}
      },
      "source": [
        "dadosClinicos['sex'] = dadosClinicos['sex'].replace(1, 'M')"
      ],
      "execution_count": null,
      "outputs": []
    },
    {
      "cell_type": "code",
      "metadata": {
        "id": "nztFoQtS4dP4",
        "colab_type": "code",
        "colab": {}
      },
      "source": [
        "dadosClinicos.sex = dadosClinicos.sex.astype(str)"
      ],
      "execution_count": null,
      "outputs": []
    },
    {
      "cell_type": "code",
      "metadata": {
        "id": "DNjBhSe44iwT",
        "colab_type": "code",
        "colab": {}
      },
      "source": [
        "type(dadosClinicos.sex)"
      ],
      "execution_count": null,
      "outputs": []
    },
    {
      "cell_type": "code",
      "metadata": {
        "id": "CWYeC58N4i38",
        "colab_type": "code",
        "colab": {}
      },
      "source": [
        "dadosClinicos.smoking = dadosClinicos.smoking.astype(bool)"
      ],
      "execution_count": null,
      "outputs": []
    },
    {
      "cell_type": "code",
      "metadata": {
        "id": "NdijZR8a4m0G",
        "colab_type": "code",
        "colab": {}
      },
      "source": [
        "# paciente falheceu ou não durante o evento\n",
        "dadosClinicos.DEATH_EVENT = dadosClinicos.DEATH_EVENT.astype(bool) "
      ],
      "execution_count": null,
      "outputs": []
    },
    {
      "cell_type": "code",
      "metadata": {
        "id": "eg_2tx864nBF",
        "colab_type": "code",
        "colab": {}
      },
      "source": [
        "dadosClinicos = dadosClinicos.rename(columns = {'DEATH_EVENT':'dieOrNot'}, inplace = False)"
      ],
      "execution_count": null,
      "outputs": []
    },
    {
      "cell_type": "code",
      "metadata": {
        "id": "yWwkuUEv4nLp",
        "colab_type": "code",
        "colab": {}
      },
      "source": [
        "dadosClinicos.columns"
      ],
      "execution_count": null,
      "outputs": []
    },
    {
      "cell_type": "code",
      "metadata": {
        "id": "Unl8zfj14nRO",
        "colab_type": "code",
        "colab": {}
      },
      "source": [
        "# Verificação de valores Null (para a modelagem preditiva)\n",
        "dadosClinicos.isnull().values.any()"
      ],
      "execution_count": null,
      "outputs": []
    },
    {
      "cell_type": "code",
      "metadata": {
        "id": "_fvlW2H04vQu",
        "colab_type": "code",
        "colab": {}
      },
      "source": [
        "# 3 - Análise Exploratória\n",
        "# Informações estatísticas gerais\n",
        "# Para variáveis quantitativas (numéricas)\n",
        "dadosClinicos.describe()"
      ],
      "execution_count": null,
      "outputs": []
    },
    {
      "cell_type": "code",
      "metadata": {
        "id": "XgwCbMJt4vYT",
        "colab_type": "code",
        "colab": {}
      },
      "source": [
        "# Número de linhas, colunas, tipo de cada dado\n",
        "dadosClinicos.info()"
      ],
      "execution_count": null,
      "outputs": []
    },
    {
      "cell_type": "code",
      "metadata": {
        "id": "KjFE-4ZH4vcb",
        "colab_type": "code",
        "colab": {}
      },
      "source": [
        "# Análise unilateral. Varíavel: age (quantitativa). Possível será CATEGÓRICA.\n",
        "# Resumo estatístico básico\n",
        "dadosClinicos.age.describe()"
      ],
      "execution_count": null,
      "outputs": []
    },
    {
      "cell_type": "code",
      "metadata": {
        "id": "FR9MzabR5HBz",
        "colab_type": "code",
        "colab": {}
      },
      "source": [
        "plt.boxplot(dadosClinicos.age)\n",
        "plt.title('Boxplot de idades')"
      ],
      "execution_count": null,
      "outputs": []
    },
    {
      "cell_type": "code",
      "metadata": {
        "id": "krE3k5AG5HEJ",
        "colab_type": "code",
        "colab": {}
      },
      "source": [
        "plt.hist(dadosClinicos.age)\n",
        "plt.xlabel('Idades')\n",
        "plt.ylabel('Frequência')\n",
        "plt.title('Histograma de idades')"
      ],
      "execution_count": null,
      "outputs": []
    },
    {
      "cell_type": "code",
      "metadata": {
        "id": "d7bA-7lW5HGV",
        "colab_type": "code",
        "colab": {}
      },
      "source": [
        "# Exploração da varíavel categórica anaemia\n",
        "# Resumo estástico básico\n",
        "dadosClinicos.anaemia.describe()"
      ],
      "execution_count": null,
      "outputs": []
    },
    {
      "cell_type": "code",
      "metadata": {
        "id": "h7jNy-iu5HKq",
        "colab_type": "code",
        "colab": {}
      },
      "source": [
        "# Contagem de valores\n",
        "dadosClinicos.anaemia.value_counts()"
      ],
      "execution_count": null,
      "outputs": []
    },
    {
      "cell_type": "code",
      "metadata": {
        "id": "Qx97XY3w5HIs",
        "colab_type": "code",
        "colab": {}
      },
      "source": [
        "labelsNomesAnemia = \"Não tem anemia\",\"Tem anemia\"\n",
        "plt.pie(dadosClinicos.anaemia.value_counts(),labels = labelsNomesAnemia, autopct='%1.1f%%', shadow = True)\n",
        "plt.title('Porcentagem de pacientes com anemia')"
      ],
      "execution_count": null,
      "outputs": []
    },
    {
      "cell_type": "code",
      "metadata": {
        "id": "XsEaCbxH5PSt",
        "colab_type": "code",
        "colab": {}
      },
      "source": [
        "plt.bar(labelsNomesAnemia,dadosClinicos.anaemia.value_counts())\n",
        "plt.ylabel('Quantidade')\n",
        "plt.title('Quantidade de pacientes com e sem anemia')"
      ],
      "execution_count": null,
      "outputs": []
    },
    {
      "cell_type": "code",
      "metadata": {
        "id": "A6WFay_a5PVZ",
        "colab_type": "code",
        "colab": {}
      },
      "source": [
        "# Exploração da varíavel creatinine_phosphokinase\n",
        "# Resumo estástico básico\n",
        "dadosClinicos.creatinine_phosphokinase.describe()"
      ],
      "execution_count": null,
      "outputs": []
    },
    {
      "cell_type": "code",
      "metadata": {
        "id": "lcjZTAAa5aBL",
        "colab_type": "code",
        "colab": {}
      },
      "source": [
        "plt.boxplot(dadosClinicos.creatinine_phosphokinase)\n",
        "plt.title('Boxplot de creatinine_phosphokinase')\n",
        "# Note que há bastante outliers, necessário ajustar para o modelo preditivo"
      ],
      "execution_count": null,
      "outputs": []
    },
    {
      "cell_type": "code",
      "metadata": {
        "id": "PGwDzvJz5aDu",
        "colab_type": "code",
        "colab": {}
      },
      "source": [
        "plt.hist(dadosClinicos.creatinine_phosphokinase,bins = 3)\n",
        "plt.xlabel(\"Creatinine_phosphokinase\")\n",
        "plt.ylabel(\"Frequência\")\n",
        "plt.title(\"Histograma de creatinine_phosphokinase (CPK) no sangue\")"
      ],
      "execution_count": null,
      "outputs": []
    },
    {
      "cell_type": "code",
      "metadata": {
        "id": "q-DSWuoO5aGB",
        "colab_type": "code",
        "colab": {}
      },
      "source": [
        "# Exploração da variável diabetes (categórica)\n",
        "# Contagem de valores\n",
        "dadosClinicos.diabetes.value_counts()"
      ],
      "execution_count": null,
      "outputs": []
    },
    {
      "cell_type": "code",
      "metadata": {
        "id": "Wmi6s26q5aIn",
        "colab_type": "code",
        "colab": {}
      },
      "source": [
        "labelsNomesDiabetes = \"Não tem diabete\",\"Tem diabete \"\n",
        "plt.pie(dadosClinicos.diabetes.value_counts(),labels = labelsNomesDiabetes, autopct='%1.1f%%', shadow = True)\n",
        "plt.title('Porcentagem de pacientes com diabetes')"
      ],
      "execution_count": null,
      "outputs": []
    },
    {
      "cell_type": "code",
      "metadata": {
        "id": "UuF6e-Gt5iD1",
        "colab_type": "code",
        "colab": {}
      },
      "source": [
        "plt.bar(labelsNomesDiabetes,dadosClinicos.diabetes.value_counts())\n",
        "plt.ylabel('Quantidade')\n",
        "plt.title('Quantidade de pacientes sem e com diabete')"
      ],
      "execution_count": null,
      "outputs": []
    },
    {
      "cell_type": "code",
      "metadata": {
        "id": "yRFIxvSn5iGY",
        "colab_type": "code",
        "colab": {}
      },
      "source": [
        "# Exploração da varíavel ejection_fraction\n",
        "# Resumo estástico rápido\n",
        "dadosClinicos.ejection_fraction.describe()"
      ],
      "execution_count": null,
      "outputs": []
    },
    {
      "cell_type": "code",
      "metadata": {
        "id": "CM7IMrNw5iK9",
        "colab_type": "code",
        "colab": {}
      },
      "source": [
        "plt.boxplot(dadosClinicos.ejection_fraction)\n",
        "plt.title('Boxplot de ejection_fraction')"
      ],
      "execution_count": null,
      "outputs": []
    },
    {
      "cell_type": "code",
      "metadata": {
        "id": "3IB4MIUA5iO7",
        "colab_type": "code",
        "colab": {}
      },
      "source": [
        "plt.hist(dadosClinicos.ejection_fraction)\n",
        "plt.xlabel(\"ejection_fraction\")\n",
        "plt.ylabel(\"Frequência\")\n",
        "plt.title(\"Histograma de 'ejection_fraction'\")"
      ],
      "execution_count": null,
      "outputs": []
    },
    {
      "cell_type": "code",
      "metadata": {
        "id": "NMA2JGto5iRS",
        "colab_type": "code",
        "colab": {}
      },
      "source": [
        "# Exploração da variável 'high_blood_pressure' (categórica)"
      ],
      "execution_count": null,
      "outputs": []
    },
    {
      "cell_type": "code",
      "metadata": {
        "id": "KttIwF6G5iNd",
        "colab_type": "code",
        "colab": {}
      },
      "source": [
        "# Contagem de valores\n",
        "dadosClinicos.high_blood_pressure.value_counts()"
      ],
      "execution_count": null,
      "outputs": []
    },
    {
      "cell_type": "code",
      "metadata": {
        "id": "lfaay7-k5iIf",
        "colab_type": "code",
        "colab": {}
      },
      "source": [
        "labelsNomesPressaoAlta = \"Não tem pressão alta\",\"Tem pressão alta \"\n",
        "plt.pie(dadosClinicos.high_blood_pressure.value_counts(),labels = labelsNomesPressaoAlta, autopct='%1.1f%%', shadow = True)\n",
        "plt.title('Porcentagem de pacientes com pressão alta')"
      ],
      "execution_count": null,
      "outputs": []
    },
    {
      "cell_type": "code",
      "metadata": {
        "id": "r9sqYPl05rrv",
        "colab_type": "code",
        "colab": {}
      },
      "source": [
        "# Quantidade\n",
        "plt.bar(labelsNomesPressaoAlta,dadosClinicos.high_blood_pressure.value_counts())\n",
        "plt.ylabel('Quantidade')\n",
        "plt.title('Quantidade de pacientes sem e com pressão alta')\n",
        "# plt.hist(dadosClinicos.ejection_fraction, bins = 2) # não agrega muito"
      ],
      "execution_count": null,
      "outputs": []
    },
    {
      "cell_type": "code",
      "metadata": {
        "id": "UoOjoXMo5rwL",
        "colab_type": "code",
        "colab": {}
      },
      "source": [
        "# Exploração da varíavel platelets (quantitativa)\n",
        "# Resumo estátistico breve\n",
        "dadosClinicos.platelets.describe()"
      ],
      "execution_count": null,
      "outputs": []
    },
    {
      "cell_type": "code",
      "metadata": {
        "id": "kr5heZg_5rzE",
        "colab_type": "code",
        "colab": {}
      },
      "source": [
        "plt.boxplot(dadosClinicos.platelets)\n",
        "plt.title('Boxplot Plaquetas (mg/mL) no sangue')\n",
        "# Note que há bastante outliers"
      ],
      "execution_count": null,
      "outputs": []
    },
    {
      "cell_type": "code",
      "metadata": {
        "id": "pGx4ieao5r6V",
        "colab_type": "code",
        "colab": {}
      },
      "source": [
        "plt.hist(dadosClinicos.platelets)\n",
        "plt.title('Histograma Plaquetas (mg/mL) no sangue')\n",
        "plt.ylabel('Frequência')"
      ],
      "execution_count": null,
      "outputs": []
    },
    {
      "cell_type": "code",
      "metadata": {
        "id": "l_bYL0zu5r95",
        "colab_type": "code",
        "colab": {}
      },
      "source": [
        "# Exploração variável quantitativa 'serum_creatinine' \n",
        "# Resumo estástico rápido\n",
        "dadosClinicos.serum_creatinine.describe()"
      ],
      "execution_count": null,
      "outputs": []
    },
    {
      "cell_type": "code",
      "metadata": {
        "id": "ojawy5IV5ruD",
        "colab_type": "code",
        "colab": {}
      },
      "source": [
        "plt.boxplot(dadosClinicos.serum_creatinine)\n",
        "plt.title('Boxplot - Nível de creatinina sérica no sangue (mg / dL)')\n",
        "# Há bastante valores outliers"
      ],
      "execution_count": null,
      "outputs": []
    },
    {
      "cell_type": "code",
      "metadata": {
        "id": "Hz1re1y852SP",
        "colab_type": "code",
        "colab": {}
      },
      "source": [
        "plt.hist(dadosClinicos.serum_creatinine)\n",
        "plt.title('Histograma - Nível de creatinina sérica no sangue (mg / dL)')\n",
        "plt.ylabel('Frequência')"
      ],
      "execution_count": null,
      "outputs": []
    },
    {
      "cell_type": "code",
      "metadata": {
        "id": "-UwAUxO152Wg",
        "colab_type": "code",
        "colab": {}
      },
      "source": [
        "# Exploração da varíavel serum_sodium (quantitativa)\n",
        "# Resumo estástico rápido\n",
        "dadosClinicos.serum_sodium.describe()"
      ],
      "execution_count": null,
      "outputs": []
    },
    {
      "cell_type": "code",
      "metadata": {
        "id": "XLiWQhOt52ZB",
        "colab_type": "code",
        "colab": {}
      },
      "source": [
        "plt.boxplot(dadosClinicos.serum_sodium)\n",
        "plt.title('Boxplot - Nível de sódio sérico no sangue (mEq / L)')"
      ],
      "execution_count": null,
      "outputs": []
    },
    {
      "cell_type": "code",
      "metadata": {
        "id": "C3kIy8Is52Um",
        "colab_type": "code",
        "colab": {}
      },
      "source": [
        "plt.hist(dadosClinicos.serum_sodium)\n",
        "plt.title('Histograma - Nível de sódio sérico no sangue (mEq / L)')\n",
        "plt.ylabel('Frequência')"
      ],
      "execution_count": null,
      "outputs": []
    },
    {
      "cell_type": "code",
      "metadata": {
        "id": "_ywZ-CGc58Hw",
        "colab_type": "code",
        "colab": {}
      },
      "source": [
        "# Exploração da varíavel sex (categórica)"
      ],
      "execution_count": null,
      "outputs": []
    },
    {
      "cell_type": "code",
      "metadata": {
        "id": "LWdj93zN58L5",
        "colab_type": "code",
        "colab": {}
      },
      "source": [
        "# Contagem de valores\n",
        "dadosClinicos.sex.value_counts()"
      ],
      "execution_count": null,
      "outputs": []
    },
    {
      "cell_type": "code",
      "metadata": {
        "id": "xaJWRrCS58OU",
        "colab_type": "code",
        "colab": {}
      },
      "source": [
        "labelsNomesSexo = \"Masculino\",\"Feminino\"\n",
        "plt.pie(dadosClinicos.sex.value_counts(),labels = labelsNomesSexo, autopct='%1.1f%%', shadow = True)\n",
        "plt.title('Porcentagem de sexo')"
      ],
      "execution_count": null,
      "outputs": []
    },
    {
      "cell_type": "code",
      "metadata": {
        "id": "AHVxMJY958J6",
        "colab_type": "code",
        "colab": {}
      },
      "source": [
        "# Quantidade\n",
        "plt.bar(labelsNomesSexo,dadosClinicos.sex.value_counts())\n",
        "plt.ylabel('Quantidade')\n",
        "plt.title('Quantidade de sexo de pacientes')"
      ],
      "execution_count": null,
      "outputs": []
    },
    {
      "cell_type": "code",
      "metadata": {
        "id": "PQtycw2w6BHW",
        "colab_type": "code",
        "colab": {}
      },
      "source": [
        "# Exploração da varíavel smoking (categórica)"
      ],
      "execution_count": null,
      "outputs": []
    },
    {
      "cell_type": "code",
      "metadata": {
        "id": "rYmCPnSs6BLw",
        "colab_type": "code",
        "colab": {}
      },
      "source": [
        "# Contagem de valores\n",
        "dadosClinicos.smoking.value_counts()"
      ],
      "execution_count": null,
      "outputs": []
    },
    {
      "cell_type": "code",
      "metadata": {
        "id": "JmKVwUzq6BSR",
        "colab_type": "code",
        "colab": {}
      },
      "source": [
        "labelsNomesFumantesOuNao = \"Não fuma\",\"Fuma\"\n",
        "plt.pie(dadosClinicos.smoking.value_counts(),labels = labelsNomesFumantesOuNao, autopct='%1.1f%%', shadow = True)\n",
        "plt.title('Porcentagem de fumantes')"
      ],
      "execution_count": null,
      "outputs": []
    },
    {
      "cell_type": "code",
      "metadata": {
        "id": "w6NbiBiD6BVM",
        "colab_type": "code",
        "colab": {}
      },
      "source": [
        "# Quantidade\n",
        "plt.bar(labelsNomesFumantesOuNao,dadosClinicos.smoking.value_counts())\n",
        "plt.ylabel('Quantidade')\n",
        "plt.title('Quantidade de fumantes')"
      ],
      "execution_count": null,
      "outputs": []
    },
    {
      "cell_type": "code",
      "metadata": {
        "id": "Cg8MsxGo6BQQ",
        "colab_type": "code",
        "colab": {}
      },
      "source": [
        "# Exploração da varíavel time representando número de dias (categórica)"
      ],
      "execution_count": null,
      "outputs": []
    },
    {
      "cell_type": "code",
      "metadata": {
        "id": "2huXgYna6BOS",
        "colab_type": "code",
        "colab": {}
      },
      "source": [
        "# Contagem de valores\n",
        "dadosClinicos.time.describe()"
      ],
      "execution_count": null,
      "outputs": []
    },
    {
      "cell_type": "code",
      "metadata": {
        "id": "WhfJF4HN6BJ3",
        "colab_type": "code",
        "colab": {}
      },
      "source": [
        "plt.boxplot(dadosClinicos.time)\n",
        "plt.title('Boxplot - Período de acompanhamento em dias')"
      ],
      "execution_count": null,
      "outputs": []
    },
    {
      "cell_type": "code",
      "metadata": {
        "id": "e7p--XSz6ITK",
        "colab_type": "code",
        "colab": {}
      },
      "source": [
        "plt.hist(dadosClinicos.time)\n",
        "plt.title('Período de acompanhamento em dias')\n",
        "plt.ylabel('Frequência')"
      ],
      "execution_count": null,
      "outputs": []
    },
    {
      "cell_type": "code",
      "metadata": {
        "id": "pSfx1Lit6IXg",
        "colab_type": "code",
        "colab": {}
      },
      "source": [
        "dadosClinicos.time"
      ],
      "execution_count": null,
      "outputs": []
    },
    {
      "cell_type": "code",
      "metadata": {
        "id": "LqTyRuz86Iac",
        "colab_type": "code",
        "colab": {}
      },
      "source": [
        "# Exploração varíavel categórica dieOrNot"
      ],
      "execution_count": null,
      "outputs": []
    },
    {
      "cell_type": "code",
      "metadata": {
        "id": "OCxRk0iL6IVq",
        "colab_type": "code",
        "colab": {}
      },
      "source": [
        "dadosClinicos.dieOrNot.value_counts()"
      ],
      "execution_count": null,
      "outputs": []
    },
    {
      "cell_type": "code",
      "metadata": {
        "id": "Z32PiIXc6NmD",
        "colab_type": "code",
        "colab": {}
      },
      "source": [
        "labelsNomesMorteOuNao = \"Não morreu\",\"Morreu\"\n",
        "plt.pie(dadosClinicos.dieOrNot.value_counts(),labels = labelsNomesMorteOuNao, autopct='%1.1f%%', shadow = True)\n",
        "plt.title('Porcentagem de Mortes')"
      ],
      "execution_count": null,
      "outputs": []
    },
    {
      "cell_type": "code",
      "metadata": {
        "id": "t9ui2YTp6Nql",
        "colab_type": "code",
        "colab": {}
      },
      "source": [
        "# Quantidade\n",
        "plt.bar(labelsNomesMorteOuNao,dadosClinicos.dieOrNot.value_counts())\n",
        "plt.ylabel('Quantidade')\n",
        "plt.title('Quantidade de Mortes')"
      ],
      "execution_count": null,
      "outputs": []
    },
    {
      "cell_type": "code",
      "metadata": {
        "id": "mLd7_JVE6Nuw",
        "colab_type": "code",
        "colab": {}
      },
      "source": [
        "# Análise multivariada (duas ou mais varíaveis). \n",
        "# Correlação entre variáveis. \n",
        "# Correlação varia entre -1 (correlação negativa: uma diminui, outra aumenta) a 1 (correlação positiva, ambas\n",
        "# variáveis vão no mesmo sentido). Correlação identifica o relacionamento linear entre variáveis, o que \n",
        "# não significa causalidade.\n",
        "# corr() = a correlação de Pearson\n",
        "dadosClinicos.corr()"
      ],
      "execution_count": null,
      "outputs": []
    },
    {
      "cell_type": "code",
      "metadata": {
        "id": "K5YW8-Oi6NtO",
        "colab_type": "code",
        "colab": {}
      },
      "source": [
        "# Gráfico de correlação\n",
        "plt.figure(figsize=(10, 6))\n",
        "sns.heatmap(dadosClinicos.corr(),\n",
        "            annot = True,\n",
        "            fmt = '.2f',\n",
        "            cmap='Blues')\n",
        "plt.title('Correlação entre variáveis do dataset de dadosClinicos')\n",
        "plt.show()\n",
        "# As correlação estão fracas, considere que boas seriam em torno de 70% ..."
      ],
      "execution_count": null,
      "outputs": []
    },
    {
      "cell_type": "code",
      "metadata": {
        "id": "sgyeEwrH6Noz",
        "colab_type": "code",
        "colab": {}
      },
      "source": [
        "# Análise: idade e nível de creatinine_phosphokinase     "
      ],
      "execution_count": null,
      "outputs": []
    },
    {
      "cell_type": "code",
      "metadata": {
        "id": "v4xEwOkw6Wwl",
        "colab_type": "code",
        "colab": {}
      },
      "source": [
        "# Comprovando a correlação, por exemplo, entre age e creatinine_phosphokinase, que está muito fraca\n",
        "plt.scatter(dadosClinicos.age,dadosClinicos.creatinine_phosphokinase)\n",
        "plt.xlabel(\"Idade\")\n",
        "plt.ylabel(\"Nível creatinina sérica no sangue (mg / dL)\")\n",
        "plt.title('Relação Idade x Nível de creatinina sérica')"
      ],
      "execution_count": null,
      "outputs": []
    },
    {
      "cell_type": "code",
      "metadata": {
        "id": "QLfMcMeL6W1r",
        "colab_type": "code",
        "colab": {}
      },
      "source": [
        "# Análise: idade x nível de ejection_fraction\n",
        "# Comprovando a correlação, por exemplo, entre age e ejection_fraction, que está muito fraca\n",
        "plt.scatter(dadosClinicos.age,dadosClinicos.ejection_fraction)\n",
        "plt.xlabel(\"Idade\")\n",
        "plt.ylabel(\"Nível de sódio sérico no sangue (mEq / L)\")\n",
        "plt.title(\"Nível de sódio sérico no sangue (mEq / L)\")"
      ],
      "execution_count": null,
      "outputs": []
    },
    {
      "cell_type": "code",
      "metadata": {
        "id": "FcRn3Zcd6W9f",
        "colab_type": "code",
        "colab": {}
      },
      "source": [
        "# Análise: idades x plaquetas\n",
        "# Comprovando a correlação, por exemplo, entre age e plaquetas, que está muito fraca\n",
        "plt.scatter(dadosClinicos.age,dadosClinicos.platelets)\n",
        "plt.xlabel(\"Idade\")\n",
        "plt.ylabel(\"Plaquetas (mg/mL) no sangue)\")\n",
        "plt.title(\"Nível Plaquetas (mg/mL) no sangue por idade\")"
      ],
      "execution_count": null,
      "outputs": []
    },
    {
      "cell_type": "code",
      "metadata": {
        "id": "H1hZSt-R6W72",
        "colab_type": "code",
        "colab": {}
      },
      "source": [
        "# Análise: idades x serum_creatinine\n",
        "# Comprovando a correlação, por exemplo, entre age e serum_creatinine, que está muito fraca\n",
        "plt.scatter(dadosClinicos.age,dadosClinicos.serum_creatinine)\n",
        "plt.xlabel(\"Idade\")\n",
        "plt.ylabel(\"Plaquetas (mg/mL) no sangue)\")\n",
        "plt.title(\"Nível serum_creatinine'enzima CPK' (mg/mL)  por idade\")"
      ],
      "execution_count": null,
      "outputs": []
    },
    {
      "cell_type": "code",
      "metadata": {
        "id": "U1C_xP9h6W6l",
        "colab_type": "code",
        "colab": {}
      },
      "source": [
        "# Análise: idades x serum_sodium \n",
        "# Comprovando a correlação, por exemplo, entre age e serum_creatinine, que está muito fraca\n",
        "plt.scatter(dadosClinicos.age,dadosClinicos.serum_sodium)\n",
        "plt.xlabel(\"Idade\")\n",
        "plt.ylabel(\"Porcentagem de Serum_sodium no sangue\")\n",
        "plt.title(\"Nível serum_sodium por idade\")"
      ],
      "execution_count": null,
      "outputs": []
    },
    {
      "cell_type": "code",
      "metadata": {
        "id": "2lcsdOmZ6Wzv",
        "colab_type": "code",
        "colab": {}
      },
      "source": [
        "# Contar quantos tem anaemia categorizando por sexo\n",
        "anaemia_map = {0: 'Não tem', 1: 'Tem'}\n",
        "sns.factorplot('anaemia',data = dadosClinicos, kind='count',hue = 'sex').set_xticklabels(anaemia_map.values())\n",
        "plt.ylabel('Quantidade')\n",
        "plt.xlabel('Anaemia')\n",
        "plt.title('Contagem de Pacientes Anémicos por Sexo')"
      ],
      "execution_count": null,
      "outputs": []
    },
    {
      "cell_type": "code",
      "metadata": {
        "id": "x-RLm3yL6jES",
        "colab_type": "code",
        "colab": {}
      },
      "source": [
        "# Contar quantos são diabéticos por sexo \n",
        "diabete_map = {0: 'Não tem', 1: 'Tem'}\n",
        "sns.factorplot('diabetes',data = dadosClinicos, kind='count',hue = 'sex').set_xticklabels(diabete_map.values())\n",
        "plt.ylabel('Quantidade')\n",
        "plt.xlabel('Diabetes')\n",
        "plt.title('Contagem de Pacientes Diabéticos por Sexo')"
      ],
      "execution_count": null,
      "outputs": []
    },
    {
      "cell_type": "code",
      "metadata": {
        "id": "ZSa60l-26jIn",
        "colab_type": "code",
        "colab": {}
      },
      "source": [
        "# Contagem de Pacientes Fumantes por Sexo\n",
        "fumantes_map = {0: 'Não é fumante', 1: 'É fumante'}\n",
        "sns.factorplot('smoking',data = dadosClinicos, kind='count',hue = 'sex').set_xticklabels(fumantes_map.values())\n",
        "plt.ylabel('Quantidade')\n",
        "plt.xlabel('Fumantes')\n",
        "plt.title('Contagem de Pacientes Fumantes por Sexo')"
      ],
      "execution_count": null,
      "outputs": []
    },
    {
      "cell_type": "code",
      "metadata": {
        "id": "uK4sZPzs6jHG",
        "colab_type": "code",
        "colab": {}
      },
      "source": [
        "# Contar quantos tem pressão alta por sexo\n",
        "pressaoAltaouNao_map = {0: 'Não tem', 1: 'Tem pressão alta'}\n",
        "sns.factorplot('high_blood_pressure',data = dadosClinicos, kind='count',hue = 'sex').set_xticklabels(pressaoAltaouNao_map.values())\n",
        "plt.ylabel('Quantidade')\n",
        "plt.xlabel('Pressão Alta')\n",
        "plt.title('Contagem de Pacientes por Pressão Alta por Sexo')"
      ],
      "execution_count": null,
      "outputs": []
    },
    {
      "cell_type": "code",
      "metadata": {
        "id": "u49Vx8G96p_i",
        "colab_type": "code",
        "colab": {}
      },
      "source": [
        "# Contar quantos morreram baseado no sexo\n",
        "morreramOuNao_map = {0: 'Não faleceu', 1: 'Faleceu'}\n",
        "sns.factorplot('dieOrNot',data = dadosClinicos, kind='count',hue = 'sex').set_xticklabels(morreramOuNao_map.values())\n",
        "plt.ylabel('Quantidade')\n",
        "plt.xlabel('Falecimentos')\n",
        "plt.title('Contagem de Órbitos por Sexo')"
      ],
      "execution_count": null,
      "outputs": []
    },
    {
      "cell_type": "code",
      "metadata": {
        "id": "YVI8kfpo6qD2",
        "colab_type": "code",
        "colab": {}
      },
      "source": [
        "# Tempo médio de acompanhamento em dias por sexo (total)\n",
        "tempoMediaAcompanhSexo = dadosClinicos.groupby(['sex']).mean()\n",
        "squarify.plot(sizes=[tempoMediaAcompanhSexo.iloc[0].time,\n",
        "                     tempoMediaAcompanhSexo.iloc[1].time], label=[\"Mulheres\", \"Homens\"], \n",
        "              color=[\"red\",\"green\"], alpha=.2)\n",
        "plt.title('Tempo Médio de Acompanhamento de Dias dos Pacientes')\n",
        "plt.axis('off')\n",
        "plt.show()\n",
        "tempoMediaAcompanhSexo.time"
      ],
      "execution_count": null,
      "outputs": []
    },
    {
      "cell_type": "code",
      "metadata": {
        "id": "Qh7TiWgn6qCb",
        "colab_type": "code",
        "colab": {}
      },
      "source": [
        "# Tempo de acompanhamento em dias por faixa de idade\n",
        "valorMin = dadosClinicos.age.min()\n",
        "valorMax = dadosClinicos.age.max()\n",
        "divParte = (valorMax - valorMin)/3\n",
        "squarify.plot(sizes=[len(dadosClinicos[dadosClinicos['age'].between(valorMin,valorMin+divParte)]),\n",
        "                     len(dadosClinicos[dadosClinicos['age'].between(valorMin+divParte,valorMin+(divParte*2))]),\n",
        "                     len(dadosClinicos[dadosClinicos['age'].between(valorMin+(divParte*2),valorMax)])\n",
        "                    ], \n",
        "              label=[\"Faixa etária 1 idade: %d a %d\" %(valorMin,valorMin+divParte), \n",
        "                     \"Faixa etária 2 idade: %d a %d\" %(valorMin+divParte,valorMin+(divParte*2)),\n",
        "                     \"Faixa etária 3 idade: %d a %d\" %(valorMin+(divParte*2),valorMax)], \n",
        "              color=[\"red\",\"green\",\"yellow\"], alpha=.3)\n",
        "plt.title('Tempo Médio de Acompanhamento de Dias dos Pacientes por Faixa Etária')\n",
        "plt.axis('off')\n",
        "plt.show()"
      ],
      "execution_count": null,
      "outputs": []
    }
  ]
}