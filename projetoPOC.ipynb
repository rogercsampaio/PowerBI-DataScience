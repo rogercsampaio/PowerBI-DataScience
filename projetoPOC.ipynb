{
  "nbformat": 4,
  "nbformat_minor": 0,
  "metadata": {
    "colab": {
      "name": "projetoPOC.ipynb",
      "provenance": [],
      "collapsed_sections": [],
      "authorship_tag": "ABX9TyN74ePZWbdgn4VJSAr1srzB",
      "include_colab_link": true
    },
    "kernelspec": {
      "name": "python3",
      "display_name": "Python 3"
    }
  },
  "cells": [
    {
      "cell_type": "markdown",
      "metadata": {
        "id": "view-in-github",
        "colab_type": "text"
      },
      "source": [
        "<a href=\"https://colab.research.google.com/github/rogercsampaio/PowerBI-DataScience/blob/master/projetoPOC.ipynb\" target=\"_parent\"><img src=\"https://colab.research.google.com/assets/colab-badge.svg\" alt=\"Open In Colab\"/></a>"
      ]
    },
    {
      "cell_type": "code",
      "metadata": {
        "id": "Zb2RdyRf9laC",
        "colab_type": "code",
        "colab": {}
      },
      "source": [
        ""
      ],
      "execution_count": 91,
      "outputs": []
    },
    {
      "cell_type": "markdown",
      "metadata": {
        "id": "w1lsTXCf2ooD",
        "colab_type": "text"
      },
      "source": [
        "# Projeto: Prever Insuficiência Cardíaca baseado em fatores clínicos e comportamentais"
      ]
    },
    {
      "cell_type": "markdown",
      "metadata": {
        "id": "ca_4oeXW2vhj",
        "colab_type": "text"
      },
      "source": [
        "A Insuficiência Cardíaca (causada por doenças cardiovasculares) é a principal\n",
        "causa de morte de vidas todos os anos, representando um percentual de 31% de todas as mortes mundiais. Este conjunto de dados contém doze características divididas em fatores clínicos e comportamentais como, por exemplo, nível de plaquetas e sódio sérico no sangue, fumante ou não, hipertenso ou não e pode ser utilizado para prever a mortalidade por doenças cardiovasculares. Objetivo do trabalho é realizar uma análise exploratória sobre o conjunto de dados e descobrir uma série de insights para auxiliar a equipe médica para a tomada de ações preventivas."
      ]
    },
    {
      "cell_type": "code",
      "metadata": {
        "id": "U2hiIH_72_Gc",
        "colab_type": "code",
        "colab": {}
      },
      "source": [
        "# 1 - Instale o pacote 'squarify' caso não possua\n",
        "#!pip install squarify\n",
        "\n",
        "# 2 - Importação de pacotes e bibliotecas necessárias\n",
        "import pandas as pd\n",
        "import matplotlib.pyplot as plt\n",
        "import seaborn as sns\n",
        "import squarify \n",
        "import requests \n",
        "import io\n",
        "\n",
        "%matplotlib inline"
      ],
      "execution_count": 92,
      "outputs": []
    },
    {
      "cell_type": "code",
      "metadata": {
        "id": "61izVu1y9Hc6",
        "colab_type": "code",
        "colab": {}
      },
      "source": [
        "link = 'https://raw.githubusercontent.com/rogercsampaio/projetos/master/ProjetoPOC/datasets/heart_failure_clinical_records_dataset.csv'\n",
        "s = requests.get(link).text"
      ],
      "execution_count": 93,
      "outputs": []
    },
    {
      "cell_type": "code",
      "metadata": {
        "id": "LPEG08Ra3Guw",
        "colab_type": "code",
        "colab": {}
      },
      "source": [
        "# 2 - Importando os dados para o dataset\n",
        "# heart_failure_clinical_records_dataset.csv\n",
        "dadosClinicos = pd.read_csv(io.StringIO(s))"
      ],
      "execution_count": 94,
      "outputs": []
    },
    {
      "cell_type": "code",
      "metadata": {
        "id": "AjgoPsKT2zZj",
        "colab_type": "code",
        "colab": {
          "base_uri": "https://localhost:8080/",
          "height": 224
        },
        "outputId": "7ae4f2b9-93e9-4f03-83d1-2fcf84350890"
      },
      "source": [
        "# Visualizando os primeiros registros e tipos de dados\n",
        "dadosClinicos.head()"
      ],
      "execution_count": 95,
      "outputs": [
        {
          "output_type": "execute_result",
          "data": {
            "text/html": [
              "<div>\n",
              "<style scoped>\n",
              "    .dataframe tbody tr th:only-of-type {\n",
              "        vertical-align: middle;\n",
              "    }\n",
              "\n",
              "    .dataframe tbody tr th {\n",
              "        vertical-align: top;\n",
              "    }\n",
              "\n",
              "    .dataframe thead th {\n",
              "        text-align: right;\n",
              "    }\n",
              "</style>\n",
              "<table border=\"1\" class=\"dataframe\">\n",
              "  <thead>\n",
              "    <tr style=\"text-align: right;\">\n",
              "      <th></th>\n",
              "      <th>age</th>\n",
              "      <th>anaemia</th>\n",
              "      <th>creatinine_phosphokinase</th>\n",
              "      <th>diabetes</th>\n",
              "      <th>ejection_fraction</th>\n",
              "      <th>high_blood_pressure</th>\n",
              "      <th>platelets</th>\n",
              "      <th>serum_creatinine</th>\n",
              "      <th>serum_sodium</th>\n",
              "      <th>sex</th>\n",
              "      <th>smoking</th>\n",
              "      <th>time</th>\n",
              "      <th>DEATH_EVENT</th>\n",
              "    </tr>\n",
              "  </thead>\n",
              "  <tbody>\n",
              "    <tr>\n",
              "      <th>0</th>\n",
              "      <td>75.0</td>\n",
              "      <td>0</td>\n",
              "      <td>582</td>\n",
              "      <td>0</td>\n",
              "      <td>20</td>\n",
              "      <td>1</td>\n",
              "      <td>265000.00</td>\n",
              "      <td>1.9</td>\n",
              "      <td>130</td>\n",
              "      <td>1</td>\n",
              "      <td>0</td>\n",
              "      <td>4</td>\n",
              "      <td>1</td>\n",
              "    </tr>\n",
              "    <tr>\n",
              "      <th>1</th>\n",
              "      <td>55.0</td>\n",
              "      <td>0</td>\n",
              "      <td>7861</td>\n",
              "      <td>0</td>\n",
              "      <td>38</td>\n",
              "      <td>0</td>\n",
              "      <td>263358.03</td>\n",
              "      <td>1.1</td>\n",
              "      <td>136</td>\n",
              "      <td>1</td>\n",
              "      <td>0</td>\n",
              "      <td>6</td>\n",
              "      <td>1</td>\n",
              "    </tr>\n",
              "    <tr>\n",
              "      <th>2</th>\n",
              "      <td>65.0</td>\n",
              "      <td>0</td>\n",
              "      <td>146</td>\n",
              "      <td>0</td>\n",
              "      <td>20</td>\n",
              "      <td>0</td>\n",
              "      <td>162000.00</td>\n",
              "      <td>1.3</td>\n",
              "      <td>129</td>\n",
              "      <td>1</td>\n",
              "      <td>1</td>\n",
              "      <td>7</td>\n",
              "      <td>1</td>\n",
              "    </tr>\n",
              "    <tr>\n",
              "      <th>3</th>\n",
              "      <td>50.0</td>\n",
              "      <td>1</td>\n",
              "      <td>111</td>\n",
              "      <td>0</td>\n",
              "      <td>20</td>\n",
              "      <td>0</td>\n",
              "      <td>210000.00</td>\n",
              "      <td>1.9</td>\n",
              "      <td>137</td>\n",
              "      <td>1</td>\n",
              "      <td>0</td>\n",
              "      <td>7</td>\n",
              "      <td>1</td>\n",
              "    </tr>\n",
              "    <tr>\n",
              "      <th>4</th>\n",
              "      <td>65.0</td>\n",
              "      <td>1</td>\n",
              "      <td>160</td>\n",
              "      <td>1</td>\n",
              "      <td>20</td>\n",
              "      <td>0</td>\n",
              "      <td>327000.00</td>\n",
              "      <td>2.7</td>\n",
              "      <td>116</td>\n",
              "      <td>0</td>\n",
              "      <td>0</td>\n",
              "      <td>8</td>\n",
              "      <td>1</td>\n",
              "    </tr>\n",
              "  </tbody>\n",
              "</table>\n",
              "</div>"
            ],
            "text/plain": [
              "    age  anaemia  creatinine_phosphokinase  ...  smoking  time  DEATH_EVENT\n",
              "0  75.0        0                       582  ...        0     4            1\n",
              "1  55.0        0                      7861  ...        0     6            1\n",
              "2  65.0        0                       146  ...        1     7            1\n",
              "3  50.0        1                       111  ...        0     7            1\n",
              "4  65.0        1                       160  ...        0     8            1\n",
              "\n",
              "[5 rows x 13 columns]"
            ]
          },
          "metadata": {
            "tags": []
          },
          "execution_count": 95
        }
      ]
    },
    {
      "cell_type": "code",
      "metadata": {
        "id": "S3UkEJLV4FpE",
        "colab_type": "code",
        "colab": {
          "base_uri": "https://localhost:8080/",
          "height": 34
        },
        "outputId": "ce0846dc-dcb4-4dba-a97b-05a4dd028a29"
      },
      "source": [
        "print(type(dadosClinicos))"
      ],
      "execution_count": 96,
      "outputs": [
        {
          "output_type": "stream",
          "text": [
            "<class 'pandas.core.frame.DataFrame'>\n"
          ],
          "name": "stdout"
        }
      ]
    },
    {
      "cell_type": "code",
      "metadata": {
        "id": "Kkjf0xDo4KXQ",
        "colab_type": "code",
        "colab": {
          "base_uri": "https://localhost:8080/",
          "height": 255
        },
        "outputId": "9e289396-66a0-4b33-e4a8-0166d55981c7"
      },
      "source": [
        "dadosClinicos.dtypes"
      ],
      "execution_count": 97,
      "outputs": [
        {
          "output_type": "execute_result",
          "data": {
            "text/plain": [
              "age                         float64\n",
              "anaemia                       int64\n",
              "creatinine_phosphokinase      int64\n",
              "diabetes                      int64\n",
              "ejection_fraction             int64\n",
              "high_blood_pressure           int64\n",
              "platelets                   float64\n",
              "serum_creatinine            float64\n",
              "serum_sodium                  int64\n",
              "sex                           int64\n",
              "smoking                       int64\n",
              "time                          int64\n",
              "DEATH_EVENT                   int64\n",
              "dtype: object"
            ]
          },
          "metadata": {
            "tags": []
          },
          "execution_count": 97
        }
      ]
    },
    {
      "cell_type": "code",
      "metadata": {
        "id": "VAQMz1GU4FuF",
        "colab_type": "code",
        "colab": {
          "base_uri": "https://localhost:8080/",
          "height": 439
        },
        "outputId": "7f46dde2-9331-44d3-fe96-fb46d9a8148a"
      },
      "source": [
        "dadosClinicos"
      ],
      "execution_count": 98,
      "outputs": [
        {
          "output_type": "execute_result",
          "data": {
            "text/html": [
              "<div>\n",
              "<style scoped>\n",
              "    .dataframe tbody tr th:only-of-type {\n",
              "        vertical-align: middle;\n",
              "    }\n",
              "\n",
              "    .dataframe tbody tr th {\n",
              "        vertical-align: top;\n",
              "    }\n",
              "\n",
              "    .dataframe thead th {\n",
              "        text-align: right;\n",
              "    }\n",
              "</style>\n",
              "<table border=\"1\" class=\"dataframe\">\n",
              "  <thead>\n",
              "    <tr style=\"text-align: right;\">\n",
              "      <th></th>\n",
              "      <th>age</th>\n",
              "      <th>anaemia</th>\n",
              "      <th>creatinine_phosphokinase</th>\n",
              "      <th>diabetes</th>\n",
              "      <th>ejection_fraction</th>\n",
              "      <th>high_blood_pressure</th>\n",
              "      <th>platelets</th>\n",
              "      <th>serum_creatinine</th>\n",
              "      <th>serum_sodium</th>\n",
              "      <th>sex</th>\n",
              "      <th>smoking</th>\n",
              "      <th>time</th>\n",
              "      <th>DEATH_EVENT</th>\n",
              "    </tr>\n",
              "  </thead>\n",
              "  <tbody>\n",
              "    <tr>\n",
              "      <th>0</th>\n",
              "      <td>75.0</td>\n",
              "      <td>0</td>\n",
              "      <td>582</td>\n",
              "      <td>0</td>\n",
              "      <td>20</td>\n",
              "      <td>1</td>\n",
              "      <td>265000.00</td>\n",
              "      <td>1.9</td>\n",
              "      <td>130</td>\n",
              "      <td>1</td>\n",
              "      <td>0</td>\n",
              "      <td>4</td>\n",
              "      <td>1</td>\n",
              "    </tr>\n",
              "    <tr>\n",
              "      <th>1</th>\n",
              "      <td>55.0</td>\n",
              "      <td>0</td>\n",
              "      <td>7861</td>\n",
              "      <td>0</td>\n",
              "      <td>38</td>\n",
              "      <td>0</td>\n",
              "      <td>263358.03</td>\n",
              "      <td>1.1</td>\n",
              "      <td>136</td>\n",
              "      <td>1</td>\n",
              "      <td>0</td>\n",
              "      <td>6</td>\n",
              "      <td>1</td>\n",
              "    </tr>\n",
              "    <tr>\n",
              "      <th>2</th>\n",
              "      <td>65.0</td>\n",
              "      <td>0</td>\n",
              "      <td>146</td>\n",
              "      <td>0</td>\n",
              "      <td>20</td>\n",
              "      <td>0</td>\n",
              "      <td>162000.00</td>\n",
              "      <td>1.3</td>\n",
              "      <td>129</td>\n",
              "      <td>1</td>\n",
              "      <td>1</td>\n",
              "      <td>7</td>\n",
              "      <td>1</td>\n",
              "    </tr>\n",
              "    <tr>\n",
              "      <th>3</th>\n",
              "      <td>50.0</td>\n",
              "      <td>1</td>\n",
              "      <td>111</td>\n",
              "      <td>0</td>\n",
              "      <td>20</td>\n",
              "      <td>0</td>\n",
              "      <td>210000.00</td>\n",
              "      <td>1.9</td>\n",
              "      <td>137</td>\n",
              "      <td>1</td>\n",
              "      <td>0</td>\n",
              "      <td>7</td>\n",
              "      <td>1</td>\n",
              "    </tr>\n",
              "    <tr>\n",
              "      <th>4</th>\n",
              "      <td>65.0</td>\n",
              "      <td>1</td>\n",
              "      <td>160</td>\n",
              "      <td>1</td>\n",
              "      <td>20</td>\n",
              "      <td>0</td>\n",
              "      <td>327000.00</td>\n",
              "      <td>2.7</td>\n",
              "      <td>116</td>\n",
              "      <td>0</td>\n",
              "      <td>0</td>\n",
              "      <td>8</td>\n",
              "      <td>1</td>\n",
              "    </tr>\n",
              "    <tr>\n",
              "      <th>...</th>\n",
              "      <td>...</td>\n",
              "      <td>...</td>\n",
              "      <td>...</td>\n",
              "      <td>...</td>\n",
              "      <td>...</td>\n",
              "      <td>...</td>\n",
              "      <td>...</td>\n",
              "      <td>...</td>\n",
              "      <td>...</td>\n",
              "      <td>...</td>\n",
              "      <td>...</td>\n",
              "      <td>...</td>\n",
              "      <td>...</td>\n",
              "    </tr>\n",
              "    <tr>\n",
              "      <th>294</th>\n",
              "      <td>62.0</td>\n",
              "      <td>0</td>\n",
              "      <td>61</td>\n",
              "      <td>1</td>\n",
              "      <td>38</td>\n",
              "      <td>1</td>\n",
              "      <td>155000.00</td>\n",
              "      <td>1.1</td>\n",
              "      <td>143</td>\n",
              "      <td>1</td>\n",
              "      <td>1</td>\n",
              "      <td>270</td>\n",
              "      <td>0</td>\n",
              "    </tr>\n",
              "    <tr>\n",
              "      <th>295</th>\n",
              "      <td>55.0</td>\n",
              "      <td>0</td>\n",
              "      <td>1820</td>\n",
              "      <td>0</td>\n",
              "      <td>38</td>\n",
              "      <td>0</td>\n",
              "      <td>270000.00</td>\n",
              "      <td>1.2</td>\n",
              "      <td>139</td>\n",
              "      <td>0</td>\n",
              "      <td>0</td>\n",
              "      <td>271</td>\n",
              "      <td>0</td>\n",
              "    </tr>\n",
              "    <tr>\n",
              "      <th>296</th>\n",
              "      <td>45.0</td>\n",
              "      <td>0</td>\n",
              "      <td>2060</td>\n",
              "      <td>1</td>\n",
              "      <td>60</td>\n",
              "      <td>0</td>\n",
              "      <td>742000.00</td>\n",
              "      <td>0.8</td>\n",
              "      <td>138</td>\n",
              "      <td>0</td>\n",
              "      <td>0</td>\n",
              "      <td>278</td>\n",
              "      <td>0</td>\n",
              "    </tr>\n",
              "    <tr>\n",
              "      <th>297</th>\n",
              "      <td>45.0</td>\n",
              "      <td>0</td>\n",
              "      <td>2413</td>\n",
              "      <td>0</td>\n",
              "      <td>38</td>\n",
              "      <td>0</td>\n",
              "      <td>140000.00</td>\n",
              "      <td>1.4</td>\n",
              "      <td>140</td>\n",
              "      <td>1</td>\n",
              "      <td>1</td>\n",
              "      <td>280</td>\n",
              "      <td>0</td>\n",
              "    </tr>\n",
              "    <tr>\n",
              "      <th>298</th>\n",
              "      <td>50.0</td>\n",
              "      <td>0</td>\n",
              "      <td>196</td>\n",
              "      <td>0</td>\n",
              "      <td>45</td>\n",
              "      <td>0</td>\n",
              "      <td>395000.00</td>\n",
              "      <td>1.6</td>\n",
              "      <td>136</td>\n",
              "      <td>1</td>\n",
              "      <td>1</td>\n",
              "      <td>285</td>\n",
              "      <td>0</td>\n",
              "    </tr>\n",
              "  </tbody>\n",
              "</table>\n",
              "<p>299 rows × 13 columns</p>\n",
              "</div>"
            ],
            "text/plain": [
              "      age  anaemia  creatinine_phosphokinase  ...  smoking  time  DEATH_EVENT\n",
              "0    75.0        0                       582  ...        0     4            1\n",
              "1    55.0        0                      7861  ...        0     6            1\n",
              "2    65.0        0                       146  ...        1     7            1\n",
              "3    50.0        1                       111  ...        0     7            1\n",
              "4    65.0        1                       160  ...        0     8            1\n",
              "..    ...      ...                       ...  ...      ...   ...          ...\n",
              "294  62.0        0                        61  ...        1   270            0\n",
              "295  55.0        0                      1820  ...        0   271            0\n",
              "296  45.0        0                      2060  ...        0   278            0\n",
              "297  45.0        0                      2413  ...        1   280            0\n",
              "298  50.0        0                       196  ...        1   285            0\n",
              "\n",
              "[299 rows x 13 columns]"
            ]
          },
          "metadata": {
            "tags": []
          },
          "execution_count": 98
        }
      ]
    },
    {
      "cell_type": "code",
      "metadata": {
        "id": "D37xXdbm4Fw-",
        "colab_type": "code",
        "colab": {}
      },
      "source": [
        "# Ajustando os tipos de dados, renomeando colunas."
      ],
      "execution_count": 99,
      "outputs": []
    },
    {
      "cell_type": "code",
      "metadata": {
        "id": "bzv6sFbV4Fz9",
        "colab_type": "code",
        "colab": {}
      },
      "source": [
        "dadosClinicos.age = dadosClinicos.age.astype(int)"
      ],
      "execution_count": 100,
      "outputs": []
    },
    {
      "cell_type": "code",
      "metadata": {
        "id": "h8HEUIf54F25",
        "colab_type": "code",
        "colab": {}
      },
      "source": [
        "dadosClinicos.anaemia = dadosClinicos.anaemia.astype(bool)"
      ],
      "execution_count": 101,
      "outputs": []
    },
    {
      "cell_type": "code",
      "metadata": {
        "id": "SDJbIwtC4WSB",
        "colab_type": "code",
        "colab": {}
      },
      "source": [
        "dadosClinicos.diabetes = dadosClinicos.diabetes.astype(bool)"
      ],
      "execution_count": 102,
      "outputs": []
    },
    {
      "cell_type": "code",
      "metadata": {
        "id": "9K2T89oI4WZY",
        "colab_type": "code",
        "colab": {}
      },
      "source": [
        "dadosClinicos.high_blood_pressure = dadosClinicos.high_blood_pressure.astype(bool)"
      ],
      "execution_count": 103,
      "outputs": []
    },
    {
      "cell_type": "code",
      "metadata": {
        "id": "Z3eJynqw4Wg6",
        "colab_type": "code",
        "colab": {}
      },
      "source": [
        "dadosClinicos['sex'] = dadosClinicos['sex'].replace(0, 'F')"
      ],
      "execution_count": 104,
      "outputs": []
    },
    {
      "cell_type": "code",
      "metadata": {
        "id": "PWSGJleV4dAr",
        "colab_type": "code",
        "colab": {}
      },
      "source": [
        "dadosClinicos['sex'] = dadosClinicos['sex'].replace(1, 'M')"
      ],
      "execution_count": 105,
      "outputs": []
    },
    {
      "cell_type": "code",
      "metadata": {
        "id": "nztFoQtS4dP4",
        "colab_type": "code",
        "colab": {}
      },
      "source": [
        "dadosClinicos.sex = dadosClinicos.sex.astype(str)"
      ],
      "execution_count": 106,
      "outputs": []
    },
    {
      "cell_type": "code",
      "metadata": {
        "id": "DNjBhSe44iwT",
        "colab_type": "code",
        "colab": {
          "base_uri": "https://localhost:8080/",
          "height": 34
        },
        "outputId": "7d6596d0-bee0-4a91-a52a-f4eab35b2153"
      },
      "source": [
        "type(dadosClinicos.sex)"
      ],
      "execution_count": 107,
      "outputs": [
        {
          "output_type": "execute_result",
          "data": {
            "text/plain": [
              "pandas.core.series.Series"
            ]
          },
          "metadata": {
            "tags": []
          },
          "execution_count": 107
        }
      ]
    },
    {
      "cell_type": "code",
      "metadata": {
        "id": "CWYeC58N4i38",
        "colab_type": "code",
        "colab": {}
      },
      "source": [
        "dadosClinicos.smoking = dadosClinicos.smoking.astype(bool)"
      ],
      "execution_count": 108,
      "outputs": []
    },
    {
      "cell_type": "code",
      "metadata": {
        "id": "NdijZR8a4m0G",
        "colab_type": "code",
        "colab": {}
      },
      "source": [
        "# paciente falheceu ou não durante o evento\n",
        "dadosClinicos.DEATH_EVENT = dadosClinicos.DEATH_EVENT.astype(bool) "
      ],
      "execution_count": 109,
      "outputs": []
    },
    {
      "cell_type": "code",
      "metadata": {
        "id": "eg_2tx864nBF",
        "colab_type": "code",
        "colab": {}
      },
      "source": [
        "dadosClinicos = dadosClinicos.rename(columns = {'DEATH_EVENT':'dieOrNot'}, inplace = False)"
      ],
      "execution_count": 110,
      "outputs": []
    },
    {
      "cell_type": "code",
      "metadata": {
        "id": "yWwkuUEv4nLp",
        "colab_type": "code",
        "colab": {
          "base_uri": "https://localhost:8080/",
          "height": 102
        },
        "outputId": "12049a9d-099d-44ee-bab7-8ab71045d7e5"
      },
      "source": [
        "dadosClinicos.columns"
      ],
      "execution_count": 111,
      "outputs": [
        {
          "output_type": "execute_result",
          "data": {
            "text/plain": [
              "Index(['age', 'anaemia', 'creatinine_phosphokinase', 'diabetes',\n",
              "       'ejection_fraction', 'high_blood_pressure', 'platelets',\n",
              "       'serum_creatinine', 'serum_sodium', 'sex', 'smoking', 'time',\n",
              "       'dieOrNot'],\n",
              "      dtype='object')"
            ]
          },
          "metadata": {
            "tags": []
          },
          "execution_count": 111
        }
      ]
    },
    {
      "cell_type": "code",
      "metadata": {
        "id": "Unl8zfj14nRO",
        "colab_type": "code",
        "colab": {
          "base_uri": "https://localhost:8080/",
          "height": 34
        },
        "outputId": "bc55e35b-a2d2-4a91-9ce2-c72747e6359e"
      },
      "source": [
        "# Verificação de valores Null (para a modelagem preditiva)\n",
        "dadosClinicos.isnull().values.any()"
      ],
      "execution_count": 112,
      "outputs": [
        {
          "output_type": "execute_result",
          "data": {
            "text/plain": [
              "False"
            ]
          },
          "metadata": {
            "tags": []
          },
          "execution_count": 112
        }
      ]
    },
    {
      "cell_type": "code",
      "metadata": {
        "id": "_fvlW2H04vQu",
        "colab_type": "code",
        "colab": {
          "base_uri": "https://localhost:8080/",
          "height": 297
        },
        "outputId": "20494d28-70a9-426c-ebfd-f0b1c3144018"
      },
      "source": [
        "# 3 - Análise Exploratória\n",
        "# Informações estatísticas gerais\n",
        "# Para variáveis quantitativas (numéricas)\n",
        "dadosClinicos.describe()"
      ],
      "execution_count": 113,
      "outputs": [
        {
          "output_type": "execute_result",
          "data": {
            "text/html": [
              "<div>\n",
              "<style scoped>\n",
              "    .dataframe tbody tr th:only-of-type {\n",
              "        vertical-align: middle;\n",
              "    }\n",
              "\n",
              "    .dataframe tbody tr th {\n",
              "        vertical-align: top;\n",
              "    }\n",
              "\n",
              "    .dataframe thead th {\n",
              "        text-align: right;\n",
              "    }\n",
              "</style>\n",
              "<table border=\"1\" class=\"dataframe\">\n",
              "  <thead>\n",
              "    <tr style=\"text-align: right;\">\n",
              "      <th></th>\n",
              "      <th>age</th>\n",
              "      <th>creatinine_phosphokinase</th>\n",
              "      <th>ejection_fraction</th>\n",
              "      <th>platelets</th>\n",
              "      <th>serum_creatinine</th>\n",
              "      <th>serum_sodium</th>\n",
              "      <th>time</th>\n",
              "    </tr>\n",
              "  </thead>\n",
              "  <tbody>\n",
              "    <tr>\n",
              "      <th>count</th>\n",
              "      <td>299.000000</td>\n",
              "      <td>299.000000</td>\n",
              "      <td>299.000000</td>\n",
              "      <td>299.000000</td>\n",
              "      <td>299.00000</td>\n",
              "      <td>299.000000</td>\n",
              "      <td>299.000000</td>\n",
              "    </tr>\n",
              "    <tr>\n",
              "      <th>mean</th>\n",
              "      <td>60.829431</td>\n",
              "      <td>581.839465</td>\n",
              "      <td>38.083612</td>\n",
              "      <td>263358.029264</td>\n",
              "      <td>1.39388</td>\n",
              "      <td>136.625418</td>\n",
              "      <td>130.260870</td>\n",
              "    </tr>\n",
              "    <tr>\n",
              "      <th>std</th>\n",
              "      <td>11.894997</td>\n",
              "      <td>970.287881</td>\n",
              "      <td>11.834841</td>\n",
              "      <td>97804.236869</td>\n",
              "      <td>1.03451</td>\n",
              "      <td>4.412477</td>\n",
              "      <td>77.614208</td>\n",
              "    </tr>\n",
              "    <tr>\n",
              "      <th>min</th>\n",
              "      <td>40.000000</td>\n",
              "      <td>23.000000</td>\n",
              "      <td>14.000000</td>\n",
              "      <td>25100.000000</td>\n",
              "      <td>0.50000</td>\n",
              "      <td>113.000000</td>\n",
              "      <td>4.000000</td>\n",
              "    </tr>\n",
              "    <tr>\n",
              "      <th>25%</th>\n",
              "      <td>51.000000</td>\n",
              "      <td>116.500000</td>\n",
              "      <td>30.000000</td>\n",
              "      <td>212500.000000</td>\n",
              "      <td>0.90000</td>\n",
              "      <td>134.000000</td>\n",
              "      <td>73.000000</td>\n",
              "    </tr>\n",
              "    <tr>\n",
              "      <th>50%</th>\n",
              "      <td>60.000000</td>\n",
              "      <td>250.000000</td>\n",
              "      <td>38.000000</td>\n",
              "      <td>262000.000000</td>\n",
              "      <td>1.10000</td>\n",
              "      <td>137.000000</td>\n",
              "      <td>115.000000</td>\n",
              "    </tr>\n",
              "    <tr>\n",
              "      <th>75%</th>\n",
              "      <td>70.000000</td>\n",
              "      <td>582.000000</td>\n",
              "      <td>45.000000</td>\n",
              "      <td>303500.000000</td>\n",
              "      <td>1.40000</td>\n",
              "      <td>140.000000</td>\n",
              "      <td>203.000000</td>\n",
              "    </tr>\n",
              "    <tr>\n",
              "      <th>max</th>\n",
              "      <td>95.000000</td>\n",
              "      <td>7861.000000</td>\n",
              "      <td>80.000000</td>\n",
              "      <td>850000.000000</td>\n",
              "      <td>9.40000</td>\n",
              "      <td>148.000000</td>\n",
              "      <td>285.000000</td>\n",
              "    </tr>\n",
              "  </tbody>\n",
              "</table>\n",
              "</div>"
            ],
            "text/plain": [
              "              age  creatinine_phosphokinase  ...  serum_sodium        time\n",
              "count  299.000000                299.000000  ...    299.000000  299.000000\n",
              "mean    60.829431                581.839465  ...    136.625418  130.260870\n",
              "std     11.894997                970.287881  ...      4.412477   77.614208\n",
              "min     40.000000                 23.000000  ...    113.000000    4.000000\n",
              "25%     51.000000                116.500000  ...    134.000000   73.000000\n",
              "50%     60.000000                250.000000  ...    137.000000  115.000000\n",
              "75%     70.000000                582.000000  ...    140.000000  203.000000\n",
              "max     95.000000               7861.000000  ...    148.000000  285.000000\n",
              "\n",
              "[8 rows x 7 columns]"
            ]
          },
          "metadata": {
            "tags": []
          },
          "execution_count": 113
        }
      ]
    },
    {
      "cell_type": "code",
      "metadata": {
        "id": "XgwCbMJt4vYT",
        "colab_type": "code",
        "colab": {
          "base_uri": "https://localhost:8080/",
          "height": 357
        },
        "outputId": "284e9c2c-7f6e-42a4-cae0-674bae316641"
      },
      "source": [
        "# Número de linhas, colunas, tipo de cada dado\n",
        "dadosClinicos.info()"
      ],
      "execution_count": 114,
      "outputs": [
        {
          "output_type": "stream",
          "text": [
            "<class 'pandas.core.frame.DataFrame'>\n",
            "RangeIndex: 299 entries, 0 to 298\n",
            "Data columns (total 13 columns):\n",
            " #   Column                    Non-Null Count  Dtype  \n",
            "---  ------                    --------------  -----  \n",
            " 0   age                       299 non-null    int64  \n",
            " 1   anaemia                   299 non-null    bool   \n",
            " 2   creatinine_phosphokinase  299 non-null    int64  \n",
            " 3   diabetes                  299 non-null    bool   \n",
            " 4   ejection_fraction         299 non-null    int64  \n",
            " 5   high_blood_pressure       299 non-null    bool   \n",
            " 6   platelets                 299 non-null    float64\n",
            " 7   serum_creatinine          299 non-null    float64\n",
            " 8   serum_sodium              299 non-null    int64  \n",
            " 9   sex                       299 non-null    object \n",
            " 10  smoking                   299 non-null    bool   \n",
            " 11  time                      299 non-null    int64  \n",
            " 12  dieOrNot                  299 non-null    bool   \n",
            "dtypes: bool(5), float64(2), int64(5), object(1)\n",
            "memory usage: 20.3+ KB\n"
          ],
          "name": "stdout"
        }
      ]
    },
    {
      "cell_type": "code",
      "metadata": {
        "id": "KjFE-4ZH4vcb",
        "colab_type": "code",
        "colab": {
          "base_uri": "https://localhost:8080/",
          "height": 170
        },
        "outputId": "f76104fc-b7ee-4361-eee0-07b4d3768660"
      },
      "source": [
        "# Análise unilateral. Varíavel: age (quantitativa). Possível será CATEGÓRICA.\n",
        "# Resumo estatístico básico\n",
        "dadosClinicos.age.describe()"
      ],
      "execution_count": 115,
      "outputs": [
        {
          "output_type": "execute_result",
          "data": {
            "text/plain": [
              "count    299.000000\n",
              "mean      60.829431\n",
              "std       11.894997\n",
              "min       40.000000\n",
              "25%       51.000000\n",
              "50%       60.000000\n",
              "75%       70.000000\n",
              "max       95.000000\n",
              "Name: age, dtype: float64"
            ]
          },
          "metadata": {
            "tags": []
          },
          "execution_count": 115
        }
      ]
    },
    {
      "cell_type": "code",
      "metadata": {
        "id": "FR9MzabR5HBz",
        "colab_type": "code",
        "colab": {
          "base_uri": "https://localhost:8080/",
          "height": 298
        },
        "outputId": "63e33e88-2877-45cf-bda7-92d3a10f5d70"
      },
      "source": [
        "plt.boxplot(dadosClinicos.age)\n",
        "plt.title('Boxplot de idades')"
      ],
      "execution_count": 116,
      "outputs": [
        {
          "output_type": "execute_result",
          "data": {
            "text/plain": [
              "Text(0.5, 1.0, 'Boxplot de idades')"
            ]
          },
          "metadata": {
            "tags": []
          },
          "execution_count": 116
        },
        {
          "output_type": "display_data",
          "data": {
            "image/png": "[encoded data removed]",
            "text/plain": [
              "<Figure size 432x288 with 1 Axes>"
            ]
          },
          "metadata": {
            "tags": [],
            "needs_background": "light"
          }
        }
      ]
    },
    {
      "cell_type": "code",
      "metadata": {
        "id": "krE3k5AG5HEJ",
        "colab_type": "code",
        "colab": {
          "base_uri": "https://localhost:8080/",
          "height": 312
        },
        "outputId": "6be29067-e99f-42c8-fbc3-29cedb12a77e"
      },
      "source": [
        "plt.hist(dadosClinicos.age)\n",
        "plt.xlabel('Idades')\n",
        "plt.ylabel('Frequência')\n",
        "plt.title('Histograma de idades')"
      ],
      "execution_count": 117,
      "outputs": [
        {
          "output_type": "execute_result",
          "data": {
            "text/plain": [
              "Text(0.5, 1.0, 'Histograma de idades')"
            ]
          },
          "metadata": {
            "tags": []
          },
          "execution_count": 117
        },
        {
          "output_type": "display_data",
          "data": {
            "image/png": "[encoded data removed]",
            "text/plain": [
              "<Figure size 432x288 with 1 Axes>"
            ]
          },
          "metadata": {
            "tags": [],
            "needs_background": "light"
          }
        }
      ]
    },
    {
      "cell_type": "code",
      "metadata": {
        "id": "d7bA-7lW5HGV",
        "colab_type": "code",
        "colab": {
          "base_uri": "https://localhost:8080/",
          "height": 102
        },
        "outputId": "5b815053-bac5-4e3a-e99e-9ed117501aee"
      },
      "source": [
        "# Exploração da varíavel categórica anaemia\n",
        "# Resumo estástico básico\n",
        "dadosClinicos.anaemia.describe()"
      ],
      "execution_count": 118,
      "outputs": [
        {
          "output_type": "execute_result",
          "data": {
            "text/plain": [
              "count       299\n",
              "unique        2\n",
              "top       False\n",
              "freq        170\n",
              "Name: anaemia, dtype: object"
            ]
          },
          "metadata": {
            "tags": []
          },
          "execution_count": 118
        }
      ]
    },
    {
      "cell_type": "code",
      "metadata": {
        "id": "h7jNy-iu5HKq",
        "colab_type": "code",
        "colab": {
          "base_uri": "https://localhost:8080/",
          "height": 68
        },
        "outputId": "9f11022c-61e3-40ee-8f46-82a50435e13b"
      },
      "source": [
        "# Contagem de valores\n",
        "dadosClinicos.anaemia.value_counts()"
      ],
      "execution_count": 119,
      "outputs": [
        {
          "output_type": "execute_result",
          "data": {
            "text/plain": [
              "False    170\n",
              "True     129\n",
              "Name: anaemia, dtype: int64"
            ]
          },
          "metadata": {
            "tags": []
          },
          "execution_count": 119
        }
      ]
    },
    {
      "cell_type": "code",
      "metadata": {
        "id": "Qx97XY3w5HIs",
        "colab_type": "code",
        "colab": {
          "base_uri": "https://localhost:8080/",
          "height": 281
        },
        "outputId": "a408fc3e-df18-437f-b3e2-c2d2f862a46f"
      },
      "source": [
        "labelsNomesAnemia = \"Não tem anemia\",\"Tem anemia\"\n",
        "plt.pie(dadosClinicos.anaemia.value_counts(),labels = labelsNomesAnemia, autopct='%1.1f%%', shadow = True)\n",
        "plt.title('Porcentagem de pacientes com anemia')"
      ],
      "execution_count": 120,
      "outputs": [
        {
          "output_type": "execute_result",
          "data": {
            "text/plain": [
              "Text(0.5, 1.0, 'Porcentagem de pacientes com anemia')"
            ]
          },
          "metadata": {
            "tags": []
          },
          "execution_count": 120
        },
        {
          "output_type": "display_data",
          "data": {
            "image/png": "[encoded data removed]",
            "text/plain": [
              "<Figure size 432x288 with 1 Axes>"
            ]
          },
          "metadata": {
            "tags": []
          }
        }
      ]
    },
    {
      "cell_type": "code",
      "metadata": {
        "id": "XsEaCbxH5PSt",
        "colab_type": "code",
        "colab": {
          "base_uri": "https://localhost:8080/",
          "height": 298
        },
        "outputId": "c21722bd-e724-49a9-f903-bae611e9646d"
      },
      "source": [
        "plt.bar(labelsNomesAnemia,dadosClinicos.anaemia.value_counts())\n",
        "plt.ylabel('Quantidade')\n",
        "plt.title('Quantidade de pacientes com e sem anemia')"
      ],
      "execution_count": 121,
      "outputs": [
        {
          "output_type": "execute_result",
          "data": {
            "text/plain": [
              "Text(0.5, 1.0, 'Quantidade de pacientes com e sem anemia')"
            ]
          },
          "metadata": {
            "tags": []
          },
          "execution_count": 121
        },
        {
          "output_type": "display_data",
          "data": {
            "image/png": "[encoded data removed]",
            "text/plain": [
              "<Figure size 432x288 with 1 Axes>"
            ]
          },
          "metadata": {
            "tags": [],
            "needs_background": "light"
          }
        }
      ]
    },
    {
      "cell_type": "code",
      "metadata": {
        "id": "A6WFay_a5PVZ",
        "colab_type": "code",
        "colab": {
          "base_uri": "https://localhost:8080/",
          "height": 170
        },
        "outputId": "fa126a39-7469-48ae-e920-19fe5ee4b485"
      },
      "source": [
        "# Exploração da varíavel creatinine_phosphokinase\n",
        "# Resumo estástico básico\n",
        "dadosClinicos.creatinine_phosphokinase.describe()"
      ],
      "execution_count": 122,
      "outputs": [
        {
          "output_type": "execute_result",
          "data": {
            "text/plain": [
              "count     299.000000\n",
              "mean      581.839465\n",
              "std       970.287881\n",
              "min        23.000000\n",
              "25%       116.500000\n",
              "50%       250.000000\n",
              "75%       582.000000\n",
              "max      7861.000000\n",
              "Name: creatinine_phosphokinase, dtype: float64"
            ]
          },
          "metadata": {
            "tags": []
          },
          "execution_count": 122
        }
      ]
    },
    {
      "cell_type": "code",
      "metadata": {
        "id": "lcjZTAAa5aBL",
        "colab_type": "code",
        "colab": {
          "base_uri": "https://localhost:8080/",
          "height": 298
        },
        "outputId": "5654126a-77c2-46cf-d6a6-ff99e23fd5a0"
      },
      "source": [
        "plt.boxplot(dadosClinicos.creatinine_phosphokinase)\n",
        "plt.title('Boxplot de creatinine_phosphokinase')\n",
        "# Note que há bastante outliers, necessário ajustar para o modelo preditivo"
      ],
      "execution_count": 123,
      "outputs": [
        {
          "output_type": "execute_result",
          "data": {
            "text/plain": [
              "Text(0.5, 1.0, 'Boxplot de creatinine_phosphokinase')"
            ]
          },
          "metadata": {
            "tags": []
          },
          "execution_count": 123
        },
        {
          "output_type": "display_data",
          "data": {
            "image/png": "[encoded data removed]",
            "text/plain": [
              "<Figure size 432x288 with 1 Axes>"
            ]
          },
          "metadata": {
            "tags": [],
            "needs_background": "light"
          }
        }
      ]
    },
    {
      "cell_type": "code",
      "metadata": {
        "id": "PGwDzvJz5aDu",
        "colab_type": "code",
        "colab": {
          "base_uri": "https://localhost:8080/",
          "height": 313
        },
        "outputId": "a593ade6-87f0-46c4-ed7f-d0bb6792aa01"
      },
      "source": [
        "plt.hist(dadosClinicos.creatinine_phosphokinase,bins = 3)\n",
        "plt.xlabel(\"Creatinine_phosphokinase\")\n",
        "plt.ylabel(\"Frequência\")\n",
        "plt.title(\"Histograma de creatinine_phosphokinase (CPK) no sangue\")"
      ],
      "execution_count": 124,
      "outputs": [
        {
          "output_type": "execute_result",
          "data": {
            "text/plain": [
              "Text(0.5, 1.0, 'Histograma de creatinine_phosphokinase (CPK) no sangue')"
            ]
          },
          "metadata": {
            "tags": []
          },
          "execution_count": 124
        },
        {
          "output_type": "display_data",
          "data": {
            "image/png": "[encoded data removed]",
            "text/plain": [
              "<Figure size 432x288 with 1 Axes>"
            ]
          },
          "metadata": {
            "tags": [],
            "needs_background": "light"
          }
        }
      ]
    },
    {
      "cell_type": "code",
      "metadata": {
        "id": "q-DSWuoO5aGB",
        "colab_type": "code",
        "colab": {
          "base_uri": "https://localhost:8080/",
          "height": 68
        },
        "outputId": "22b2fa9c-8738-427f-a8cd-7f6f44bbbe57"
      },
      "source": [
        "# Exploração da variável diabetes (categórica)\n",
        "# Contagem de valores\n",
        "dadosClinicos.diabetes.value_counts()"
      ],
      "execution_count": 125,
      "outputs": [
        {
          "output_type": "execute_result",
          "data": {
            "text/plain": [
              "False    174\n",
              "True     125\n",
              "Name: diabetes, dtype: int64"
            ]
          },
          "metadata": {
            "tags": []
          },
          "execution_count": 125
        }
      ]
    },
    {
      "cell_type": "code",
      "metadata": {
        "id": "Wmi6s26q5aIn",
        "colab_type": "code",
        "colab": {
          "base_uri": "https://localhost:8080/",
          "height": 281
        },
        "outputId": "bf1ebcd1-a05a-4af1-f270-7647027bd433"
      },
      "source": [
        "labelsNomesDiabetes = \"Não tem diabete\",\"Tem diabete \"\n",
        "plt.pie(dadosClinicos.diabetes.value_counts(),labels = labelsNomesDiabetes, autopct='%1.1f%%', shadow = True)\n",
        "plt.title('Porcentagem de pacientes com diabetes')"
      ],
      "execution_count": 126,
      "outputs": [
        {
          "output_type": "execute_result",
          "data": {
            "text/plain": [
              "Text(0.5, 1.0, 'Porcentagem de pacientes com diabetes')"
            ]
          },
          "metadata": {
            "tags": []
          },
          "execution_count": 126
        },
        {
          "output_type": "display_data",
          "data": {
            "image/png": "[encoded data removed]",
            "text/plain": [
              "<Figure size 432x288 with 1 Axes>"
            ]
          },
          "metadata": {
            "tags": []
          }
        }
      ]
    },
    {
      "cell_type": "code",
      "metadata": {
        "id": "UuF6e-Gt5iD1",
        "colab_type": "code",
        "colab": {
          "base_uri": "https://localhost:8080/",
          "height": 298
        },
        "outputId": "38542356-0963-4c24-a705-3afbdd04a47c"
      },
      "source": [
        "plt.bar(labelsNomesDiabetes,dadosClinicos.diabetes.value_counts())\n",
        "plt.ylabel('Quantidade')\n",
        "plt.title('Quantidade de pacientes sem e com diabete')"
      ],
      "execution_count": 127,
      "outputs": [
        {
          "output_type": "execute_result",
          "data": {
            "text/plain": [
              "Text(0.5, 1.0, 'Quantidade de pacientes sem e com diabete')"
            ]
          },
          "metadata": {
            "tags": []
          },
          "execution_count": 127
        },
        {
          "output_type": "display_data",
          "data": {
            "image/png": "[encoded data removed]",
            "text/plain": [
              "<Figure size 432x288 with 1 Axes>"
            ]
          },
          "metadata": {
            "tags": [],
            "needs_background": "light"
          }
        }
      ]
    },
    {
      "cell_type": "code",
      "metadata": {
        "id": "yRFIxvSn5iGY",
        "colab_type": "code",
        "colab": {
          "base_uri": "https://localhost:8080/",
          "height": 170
        },
        "outputId": "8188e7a1-6504-4389-c638-1bd25caf39e7"
      },
      "source": [
        "# Exploração da varíavel ejection_fraction\n",
        "# Resumo estástico rápido\n",
        "dadosClinicos.ejection_fraction.describe()"
      ],
      "execution_count": 128,
      "outputs": [
        {
          "output_type": "execute_result",
          "data": {
            "text/plain": [
              "count    299.000000\n",
              "mean      38.083612\n",
              "std       11.834841\n",
              "min       14.000000\n",
              "25%       30.000000\n",
              "50%       38.000000\n",
              "75%       45.000000\n",
              "max       80.000000\n",
              "Name: ejection_fraction, dtype: float64"
            ]
          },
          "metadata": {
            "tags": []
          },
          "execution_count": 128
        }
      ]
    },
    {
      "cell_type": "code",
      "metadata": {
        "id": "CM7IMrNw5iK9",
        "colab_type": "code",
        "colab": {
          "base_uri": "https://localhost:8080/",
          "height": 298
        },
        "outputId": "c345dd05-c7b5-4ccd-ca24-7aa2c64b6b3f"
      },
      "source": [
        "plt.boxplot(dadosClinicos.ejection_fraction)\n",
        "plt.title('Boxplot de ejection_fraction')"
      ],
      "execution_count": 129,
      "outputs": [
        {
          "output_type": "execute_result",
          "data": {
            "text/plain": [
              "Text(0.5, 1.0, 'Boxplot de ejection_fraction')"
            ]
          },
          "metadata": {
            "tags": []
          },
          "execution_count": 129
        },
        {
          "output_type": "display_data",
          "data": {
            "image/png": "[encoded data removed]",
            "text/plain": [
              "<Figure size 432x288 with 1 Axes>"
            ]
          },
          "metadata": {
            "tags": [],
            "needs_background": "light"
          }
        }
      ]
    },
    {
      "cell_type": "code",
      "metadata": {
        "id": "3IB4MIUA5iO7",
        "colab_type": "code",
        "colab": {
          "base_uri": "https://localhost:8080/",
          "height": 313
        },
        "outputId": "83480637-75ad-4e07-c2c8-cdcd09610936"
      },
      "source": [
        "plt.hist(dadosClinicos.ejection_fraction)\n",
        "plt.xlabel(\"ejection_fraction\")\n",
        "plt.ylabel(\"Frequência\")\n",
        "plt.title(\"Histograma de 'ejection_fraction'\")"
      ],
      "execution_count": 130,
      "outputs": [
        {
          "output_type": "execute_result",
          "data": {
            "text/plain": [
              "Text(0.5, 1.0, \"Histograma de 'ejection_fraction'\")"
            ]
          },
          "metadata": {
            "tags": []
          },
          "execution_count": 130
        },
        {
          "output_type": "display_data",
          "data": {
            "image/png": "[encoded data removed]",
            "text/plain": [
              "<Figure size 432x288 with 1 Axes>"
            ]
          },
          "metadata": {
            "tags": [],
            "needs_background": "light"
          }
        }
      ]
    },
    {
      "cell_type": "code",
      "metadata": {
        "id": "NMA2JGto5iRS",
        "colab_type": "code",
        "colab": {}
      },
      "source": [
        "# Exploração da variável 'high_blood_pressure' (categórica)"
      ],
      "execution_count": 131,
      "outputs": []
    },
    {
      "cell_type": "code",
      "metadata": {
        "id": "KttIwF6G5iNd",
        "colab_type": "code",
        "colab": {
          "base_uri": "https://localhost:8080/",
          "height": 68
        },
        "outputId": "60a2c331-1bbf-45de-a466-e5cb58e07c4d"
      },
      "source": [
        "# Contagem de valores\n",
        "dadosClinicos.high_blood_pressure.value_counts()"
      ],
      "execution_count": 132,
      "outputs": [
        {
          "output_type": "execute_result",
          "data": {
            "text/plain": [
              "False    194\n",
              "True     105\n",
              "Name: high_blood_pressure, dtype: int64"
            ]
          },
          "metadata": {
            "tags": []
          },
          "execution_count": 132
        }
      ]
    },
    {
      "cell_type": "code",
      "metadata": {
        "id": "lfaay7-k5iIf",
        "colab_type": "code",
        "colab": {
          "base_uri": "https://localhost:8080/",
          "height": 281
        },
        "outputId": "2b5e2bac-4f29-4c07-a9e0-bf6196396051"
      },
      "source": [
        "labelsNomesPressaoAlta = \"Não tem pressão alta\",\"Tem pressão alta \"\n",
        "plt.pie(dadosClinicos.high_blood_pressure.value_counts(),labels = labelsNomesPressaoAlta, autopct='%1.1f%%', shadow = True)\n",
        "plt.title('Porcentagem de pacientes com pressão alta')"
      ],
      "execution_count": 133,
      "outputs": [
        {
          "output_type": "execute_result",
          "data": {
            "text/plain": [
              "Text(0.5, 1.0, 'Porcentagem de pacientes com pressão alta')"
            ]
          },
          "metadata": {
            "tags": []
          },
          "execution_count": 133
        },
        {
          "output_type": "display_data",
          "data": {
            "image/png": "[encoded data removed]",
            "text/plain": [
              "<Figure size 432x288 with 1 Axes>"
            ]
          },
          "metadata": {
            "tags": []
          }
        }
      ]
    },
    {
      "cell_type": "code",
      "metadata": {
        "id": "r9sqYPl05rrv",
        "colab_type": "code",
        "colab": {
          "base_uri": "https://localhost:8080/",
          "height": 298
        },
        "outputId": "cd1a6392-3d9c-4ae6-ee9f-f5947723d845"
      },
      "source": [
        "# Quantidade\n",
        "plt.bar(labelsNomesPressaoAlta,dadosClinicos.high_blood_pressure.value_counts())\n",
        "plt.ylabel('Quantidade')\n",
        "plt.title('Quantidade de pacientes sem e com pressão alta')\n",
        "# plt.hist(dadosClinicos.ejection_fraction, bins = 2) # não agrega muito"
      ],
      "execution_count": 134,
      "outputs": [
        {
          "output_type": "execute_result",
          "data": {
            "text/plain": [
              "Text(0.5, 1.0, 'Quantidade de pacientes sem e com pressão alta')"
            ]
          },
          "metadata": {
            "tags": []
          },
          "execution_count": 134
        },
        {
          "output_type": "display_data",
          "data": {
            "image/png": "[encoded data removed]",
            "text/plain": [
              "<Figure size 432x288 with 1 Axes>"
            ]
          },
          "metadata": {
            "tags": [],
            "needs_background": "light"
          }
        }
      ]
    },
    {
      "cell_type": "code",
      "metadata": {
        "id": "UoOjoXMo5rwL",
        "colab_type": "code",
        "colab": {
          "base_uri": "https://localhost:8080/",
          "height": 170
        },
        "outputId": "24c9ce70-6c36-49e3-f227-0f597009637c"
      },
      "source": [
        "# Exploração da varíavel platelets (quantitativa)\n",
        "# Resumo estátistico breve\n",
        "dadosClinicos.platelets.describe()"
      ],
      "execution_count": 135,
      "outputs": [
        {
          "output_type": "execute_result",
          "data": {
            "text/plain": [
              "count       299.000000\n",
              "mean     263358.029264\n",
              "std       97804.236869\n",
              "min       25100.000000\n",
              "25%      212500.000000\n",
              "50%      262000.000000\n",
              "75%      303500.000000\n",
              "max      850000.000000\n",
              "Name: platelets, dtype: float64"
            ]
          },
          "metadata": {
            "tags": []
          },
          "execution_count": 135
        }
      ]
    },
    {
      "cell_type": "code",
      "metadata": {
        "id": "kr5heZg_5rzE",
        "colab_type": "code",
        "colab": {
          "base_uri": "https://localhost:8080/",
          "height": 298
        },
        "outputId": "ea199062-84d9-4487-f101-1c6c0e064c48"
      },
      "source": [
        "plt.boxplot(dadosClinicos.platelets)\n",
        "plt.title('Boxplot Plaquetas (mg/mL) no sangue')\n",
        "# Note que há bastante outliers"
      ],
      "execution_count": 136,
      "outputs": [
        {
          "output_type": "execute_result",
          "data": {
            "text/plain": [
              "Text(0.5, 1.0, 'Boxplot Plaquetas (mg/mL) no sangue')"
            ]
          },
          "metadata": {
            "tags": []
          },
          "execution_count": 136
        },
        {
          "output_type": "display_data",
          "data": {
            "image/png": "[encoded data removed]",
            "text/plain": [
              "<Figure size 432x288 with 1 Axes>"
            ]
          },
          "metadata": {
            "tags": [],
            "needs_background": "light"
          }
        }
      ]
    },
    {
      "cell_type": "code",
      "metadata": {
        "id": "pGx4ieao5r6V",
        "colab_type": "code",
        "colab": {
          "base_uri": "https://localhost:8080/",
          "height": 298
        },
        "outputId": "9f3eea42-421c-4d4c-e32b-a44e29808dbf"
      },
      "source": [
        "plt.hist(dadosClinicos.platelets)\n",
        "plt.title('Histograma Plaquetas (mg/mL) no sangue')\n",
        "plt.ylabel('Frequência')"
      ],
      "execution_count": 137,
      "outputs": [
        {
          "output_type": "execute_result",
          "data": {
            "text/plain": [
              "Text(0, 0.5, 'Frequência')"
            ]
          },
          "metadata": {
            "tags": []
          },
          "execution_count": 137
        },
        {
          "output_type": "display_data",
          "data": {
            "image/png": "[encoded data removed]",
            "text/plain": [
              "<Figure size 432x288 with 1 Axes>"
            ]
          },
          "metadata": {
            "tags": [],
            "needs_background": "light"
          }
        }
      ]
    },
    {
      "cell_type": "code",
      "metadata": {
        "id": "l_bYL0zu5r95",
        "colab_type": "code",
        "colab": {
          "base_uri": "https://localhost:8080/",
          "height": 170
        },
        "outputId": "9980b5c8-b371-44dd-f085-b5c0ce9d4217"
      },
      "source": [
        "# Exploração variável quantitativa 'serum_creatinine' \n",
        "# Resumo estástico rápido\n",
        "dadosClinicos.serum_creatinine.describe()"
      ],
      "execution_count": 138,
      "outputs": [
        {
          "output_type": "execute_result",
          "data": {
            "text/plain": [
              "count    299.00000\n",
              "mean       1.39388\n",
              "std        1.03451\n",
              "min        0.50000\n",
              "25%        0.90000\n",
              "50%        1.10000\n",
              "75%        1.40000\n",
              "max        9.40000\n",
              "Name: serum_creatinine, dtype: float64"
            ]
          },
          "metadata": {
            "tags": []
          },
          "execution_count": 138
        }
      ]
    },
    {
      "cell_type": "code",
      "metadata": {
        "id": "ojawy5IV5ruD",
        "colab_type": "code",
        "colab": {
          "base_uri": "https://localhost:8080/",
          "height": 298
        },
        "outputId": "af3ccd0c-bed1-4370-b98a-02beb718995f"
      },
      "source": [
        "plt.boxplot(dadosClinicos.serum_creatinine)\n",
        "plt.title('Boxplot - Nível de creatinina sérica no sangue (mg / dL)')\n",
        "# Há bastante valores outliers"
      ],
      "execution_count": 139,
      "outputs": [
        {
          "output_type": "execute_result",
          "data": {
            "text/plain": [
              "Text(0.5, 1.0, 'Boxplot - Nível de creatinina sérica no sangue (mg / dL)')"
            ]
          },
          "metadata": {
            "tags": []
          },
          "execution_count": 139
        },
        {
          "output_type": "display_data",
          "data": {
            "image/png": "[encoded data removed]",
            "text/plain": [
              "<Figure size 432x288 with 1 Axes>"
            ]
          },
          "metadata": {
            "tags": [],
            "needs_background": "light"
          }
        }
      ]
    },
    {
      "cell_type": "code",
      "metadata": {
        "id": "Hz1re1y852SP",
        "colab_type": "code",
        "colab": {
          "base_uri": "https://localhost:8080/",
          "height": 298
        },
        "outputId": "bd4b065c-29ae-4de2-b0f7-6be97d7dc1df"
      },
      "source": [
        "plt.hist(dadosClinicos.serum_creatinine)\n",
        "plt.title('Histograma - Nível de creatinina sérica no sangue (mg / dL)')\n",
        "plt.ylabel('Frequência')"
      ],
      "execution_count": 140,
      "outputs": [
        {
          "output_type": "execute_result",
          "data": {
            "text/plain": [
              "Text(0, 0.5, 'Frequência')"
            ]
          },
          "metadata": {
            "tags": []
          },
          "execution_count": 140
        },
        {
          "output_type": "display_data",
          "data": {
            "image/png": "[encoded data removed]",
            "text/plain": [
              "<Figure size 432x288 with 1 Axes>"
            ]
          },
          "metadata": {
            "tags": [],
            "needs_background": "light"
          }
        }
      ]
    },
    {
      "cell_type": "code",
      "metadata": {
        "id": "-UwAUxO152Wg",
        "colab_type": "code",
        "colab": {
          "base_uri": "https://localhost:8080/",
          "height": 170
        },
        "outputId": "75f67625-adb3-4b38-9780-bc965b185389"
      },
      "source": [
        "# Exploração da varíavel serum_sodium (quantitativa)\n",
        "# Resumo estástico rápido\n",
        "dadosClinicos.serum_sodium.describe()"
      ],
      "execution_count": 141,
      "outputs": [
        {
          "output_type": "execute_result",
          "data": {
            "text/plain": [
              "count    299.000000\n",
              "mean     136.625418\n",
              "std        4.412477\n",
              "min      113.000000\n",
              "25%      134.000000\n",
              "50%      137.000000\n",
              "75%      140.000000\n",
              "max      148.000000\n",
              "Name: serum_sodium, dtype: float64"
            ]
          },
          "metadata": {
            "tags": []
          },
          "execution_count": 141
        }
      ]
    },
    {
      "cell_type": "code",
      "metadata": {
        "id": "XLiWQhOt52ZB",
        "colab_type": "code",
        "colab": {
          "base_uri": "https://localhost:8080/",
          "height": 298
        },
        "outputId": "6d17b8d7-7a0c-40cb-c89a-483e483400a4"
      },
      "source": [
        "plt.boxplot(dadosClinicos.serum_sodium)\n",
        "plt.title('Boxplot - Nível de sódio sérico no sangue (mEq / L)')"
      ],
      "execution_count": 142,
      "outputs": [
        {
          "output_type": "execute_result",
          "data": {
            "text/plain": [
              "Text(0.5, 1.0, 'Boxplot - Nível de sódio sérico no sangue (mEq / L)')"
            ]
          },
          "metadata": {
            "tags": []
          },
          "execution_count": 142
        },
        {
          "output_type": "display_data",
          "data": {
            "image/png": "[encoded data removed]",
            "text/plain": [
              "<Figure size 432x288 with 1 Axes>"
            ]
          },
          "metadata": {
            "tags": [],
            "needs_background": "light"
          }
        }
      ]
    },
    {
      "cell_type": "code",
      "metadata": {
        "id": "C3kIy8Is52Um",
        "colab_type": "code",
        "colab": {
          "base_uri": "https://localhost:8080/",
          "height": 298
        },
        "outputId": "39a80930-5128-4f6c-a601-ec4595e7dd25"
      },
      "source": [
        "plt.hist(dadosClinicos.serum_sodium)\n",
        "plt.title('Histograma - Nível de sódio sérico no sangue (mEq / L)')\n",
        "plt.ylabel('Frequência')"
      ],
      "execution_count": 143,
      "outputs": [
        {
          "output_type": "execute_result",
          "data": {
            "text/plain": [
              "Text(0, 0.5, 'Frequência')"
            ]
          },
          "metadata": {
            "tags": []
          },
          "execution_count": 143
        },
        {
          "output_type": "display_data",
          "data": {
            "image/png": "[encoded data removed]",
            "text/plain": [
              "<Figure size 432x288 with 1 Axes>"
            ]
          },
          "metadata": {
            "tags": [],
            "needs_background": "light"
          }
        }
      ]
    },
    {
      "cell_type": "code",
      "metadata": {
        "id": "_ywZ-CGc58Hw",
        "colab_type": "code",
        "colab": {}
      },
      "source": [
        "# Exploração da varíavel sex (categórica)"
      ],
      "execution_count": 144,
      "outputs": []
    },
    {
      "cell_type": "code",
      "metadata": {
        "id": "LWdj93zN58L5",
        "colab_type": "code",
        "colab": {
          "base_uri": "https://localhost:8080/",
          "height": 68
        },
        "outputId": "ae1266ac-b34a-4f19-e7ca-4543a929c6a2"
      },
      "source": [
        "# Contagem de valores\n",
        "dadosClinicos.sex.value_counts()"
      ],
      "execution_count": 145,
      "outputs": [
        {
          "output_type": "execute_result",
          "data": {
            "text/plain": [
              "M    194\n",
              "F    105\n",
              "Name: sex, dtype: int64"
            ]
          },
          "metadata": {
            "tags": []
          },
          "execution_count": 145
        }
      ]
    },
    {
      "cell_type": "code",
      "metadata": {
        "id": "xaJWRrCS58OU",
        "colab_type": "code",
        "colab": {
          "base_uri": "https://localhost:8080/",
          "height": 281
        },
        "outputId": "f1169476-c996-4ef3-9cfe-2e126e6c3704"
      },
      "source": [
        "labelsNomesSexo = \"Masculino\",\"Feminino\"\n",
        "plt.pie(dadosClinicos.sex.value_counts(),labels = labelsNomesSexo, autopct='%1.1f%%', shadow = True)\n",
        "plt.title('Porcentagem de sexo')"
      ],
      "execution_count": 146,
      "outputs": [
        {
          "output_type": "execute_result",
          "data": {
            "text/plain": [
              "Text(0.5, 1.0, 'Porcentagem de sexo')"
            ]
          },
          "metadata": {
            "tags": []
          },
          "execution_count": 146
        },
        {
          "output_type": "display_data",
          "data": {
            "image/png": "[encoded data removed]",
            "text/plain": [
              "<Figure size 432x288 with 1 Axes>"
            ]
          },
          "metadata": {
            "tags": []
          }
        }
      ]
    },
    {
      "cell_type": "code",
      "metadata": {
        "id": "AHVxMJY958J6",
        "colab_type": "code",
        "colab": {
          "base_uri": "https://localhost:8080/",
          "height": 298
        },
        "outputId": "03c84d5c-e4d3-4f12-d14b-bd06344f8207"
      },
      "source": [
        "# Quantidade\n",
        "plt.bar(labelsNomesSexo,dadosClinicos.sex.value_counts())\n",
        "plt.ylabel('Quantidade')\n",
        "plt.title('Quantidade de sexo de pacientes')"
      ],
      "execution_count": 147,
      "outputs": [
        {
          "output_type": "execute_result",
          "data": {
            "text/plain": [
              "Text(0.5, 1.0, 'Quantidade de sexo de pacientes')"
            ]
          },
          "metadata": {
            "tags": []
          },
          "execution_count": 147
        },
        {
          "output_type": "display_data",
          "data": {
            "image/png": "[encoded data removed]",
            "text/plain": [
              "<Figure size 432x288 with 1 Axes>"
            ]
          },
          "metadata": {
            "tags": [],
            "needs_background": "light"
          }
        }
      ]
    },
    {
      "cell_type": "code",
      "metadata": {
        "id": "PQtycw2w6BHW",
        "colab_type": "code",
        "colab": {}
      },
      "source": [
        "# Exploração da varíavel smoking (categórica)"
      ],
      "execution_count": 148,
      "outputs": []
    },
    {
      "cell_type": "code",
      "metadata": {
        "id": "rYmCPnSs6BLw",
        "colab_type": "code",
        "colab": {
          "base_uri": "https://localhost:8080/",
          "height": 68
        },
        "outputId": "efc6ede2-0bbe-4575-9b54-d56945c52988"
      },
      "source": [
        "# Contagem de valores\n",
        "dadosClinicos.smoking.value_counts()"
      ],
      "execution_count": 149,
      "outputs": [
        {
          "output_type": "execute_result",
          "data": {
            "text/plain": [
              "False    203\n",
              "True      96\n",
              "Name: smoking, dtype: int64"
            ]
          },
          "metadata": {
            "tags": []
          },
          "execution_count": 149
        }
      ]
    },
    {
      "cell_type": "code",
      "metadata": {
        "id": "JmKVwUzq6BSR",
        "colab_type": "code",
        "colab": {
          "base_uri": "https://localhost:8080/",
          "height": 281
        },
        "outputId": "cd570f98-f0a7-4d94-eeea-793cc78a98ba"
      },
      "source": [
        "labelsNomesFumantesOuNao = \"Não fuma\",\"Fuma\"\n",
        "plt.pie(dadosClinicos.smoking.value_counts(),labels = labelsNomesFumantesOuNao, autopct='%1.1f%%', shadow = True)\n",
        "plt.title('Porcentagem de fumantes')"
      ],
      "execution_count": 150,
      "outputs": [
        {
          "output_type": "execute_result",
          "data": {
            "text/plain": [
              "Text(0.5, 1.0, 'Porcentagem de fumantes')"
            ]
          },
          "metadata": {
            "tags": []
          },
          "execution_count": 150
        },
        {
          "output_type": "display_data",
          "data": {
            "image/png": "[encoded data removed]",
            "text/plain": [
              "<Figure size 432x288 with 1 Axes>"
            ]
          },
          "metadata": {
            "tags": []
          }
        }
      ]
    },
    {
      "cell_type": "code",
      "metadata": {
        "id": "w6NbiBiD6BVM",
        "colab_type": "code",
        "colab": {
          "base_uri": "https://localhost:8080/",
          "height": 298
        },
        "outputId": "b502d667-6898-405d-cf45-4680b3dcff67"
      },
      "source": [
        "# Quantidade\n",
        "plt.bar(labelsNomesFumantesOuNao,dadosClinicos.smoking.value_counts())\n",
        "plt.ylabel('Quantidade')\n",
        "plt.title('Quantidade de fumantes')"
      ],
      "execution_count": 151,
      "outputs": [
        {
          "output_type": "execute_result",
          "data": {
            "text/plain": [
              "Text(0.5, 1.0, 'Quantidade de fumantes')"
            ]
          },
          "metadata": {
            "tags": []
          },
          "execution_count": 151
        },
        {
          "output_type": "display_data",
          "data": {
            "image/png": "[encoded data removed]",
            "text/plain": [
              "<Figure size 432x288 with 1 Axes>"
            ]
          },
          "metadata": {
            "tags": [],
            "needs_background": "light"
          }
        }
      ]
    },
    {
      "cell_type": "code",
      "metadata": {
        "id": "Cg8MsxGo6BQQ",
        "colab_type": "code",
        "colab": {}
      },
      "source": [
        "# Exploração da varíavel time representando número de dias (categórica)"
      ],
      "execution_count": 152,
      "outputs": []
    },
    {
      "cell_type": "code",
      "metadata": {
        "id": "2huXgYna6BOS",
        "colab_type": "code",
        "colab": {
          "base_uri": "https://localhost:8080/",
          "height": 170
        },
        "outputId": "3ad539b7-1ad5-40ae-db3c-7932ce4e4059"
      },
      "source": [
        "# Contagem de valores\n",
        "dadosClinicos.time.describe()"
      ],
      "execution_count": 153,
      "outputs": [
        {
          "output_type": "execute_result",
          "data": {
            "text/plain": [
              "count    299.000000\n",
              "mean     130.260870\n",
              "std       77.614208\n",
              "min        4.000000\n",
              "25%       73.000000\n",
              "50%      115.000000\n",
              "75%      203.000000\n",
              "max      285.000000\n",
              "Name: time, dtype: float64"
            ]
          },
          "metadata": {
            "tags": []
          },
          "execution_count": 153
        }
      ]
    },
    {
      "cell_type": "code",
      "metadata": {
        "id": "WhfJF4HN6BJ3",
        "colab_type": "code",
        "colab": {
          "base_uri": "https://localhost:8080/",
          "height": 298
        },
        "outputId": "e972b2b0-9b85-4ffd-aa5d-f9cbc65d29f8"
      },
      "source": [
        "plt.boxplot(dadosClinicos.time)\n",
        "plt.title('Boxplot - Período de acompanhamento em dias')"
      ],
      "execution_count": 154,
      "outputs": [
        {
          "output_type": "execute_result",
          "data": {
            "text/plain": [
              "Text(0.5, 1.0, 'Boxplot - Período de acompanhamento em dias')"
            ]
          },
          "metadata": {
            "tags": []
          },
          "execution_count": 154
        },
        {
          "output_type": "display_data",
          "data": {
            "image/png": "[encoded data removed]",
            "text/plain": [
              "<Figure size 432x288 with 1 Axes>"
            ]
          },
          "metadata": {
            "tags": [],
            "needs_background": "light"
          }
        }
      ]
    },
    {
      "cell_type": "code",
      "metadata": {
        "id": "e7p--XSz6ITK",
        "colab_type": "code",
        "colab": {
          "base_uri": "https://localhost:8080/",
          "height": 298
        },
        "outputId": "709ecbcf-4aa9-4262-bdb2-30704454666b"
      },
      "source": [
        "plt.hist(dadosClinicos.time)\n",
        "plt.title('Período de acompanhamento em dias')\n",
        "plt.ylabel('Frequência')"
      ],
      "execution_count": 155,
      "outputs": [
        {
          "output_type": "execute_result",
          "data": {
            "text/plain": [
              "Text(0, 0.5, 'Frequência')"
            ]
          },
          "metadata": {
            "tags": []
          },
          "execution_count": 155
        },
        {
          "output_type": "display_data",
          "data": {
            "image/png": "[encoded data removed]",
            "text/plain": [
              "<Figure size 432x288 with 1 Axes>"
            ]
          },
          "metadata": {
            "tags": [],
            "needs_background": "light"
          }
        }
      ]
    },
    {
      "cell_type": "code",
      "metadata": {
        "id": "pSfx1Lit6IXg",
        "colab_type": "code",
        "colab": {
          "base_uri": "https://localhost:8080/",
          "height": 221
        },
        "outputId": "d63094d8-b305-42fa-caa9-6312e13423f0"
      },
      "source": [
        "dadosClinicos.time"
      ],
      "execution_count": 156,
      "outputs": [
        {
          "output_type": "execute_result",
          "data": {
            "text/plain": [
              "0        4\n",
              "1        6\n",
              "2        7\n",
              "3        7\n",
              "4        8\n",
              "      ... \n",
              "294    270\n",
              "295    271\n",
              "296    278\n",
              "297    280\n",
              "298    285\n",
              "Name: time, Length: 299, dtype: int64"
            ]
          },
          "metadata": {
            "tags": []
          },
          "execution_count": 156
        }
      ]
    },
    {
      "cell_type": "code",
      "metadata": {
        "id": "LqTyRuz86Iac",
        "colab_type": "code",
        "colab": {}
      },
      "source": [
        "# Exploração varíavel categórica dieOrNot"
      ],
      "execution_count": 157,
      "outputs": []
    },
    {
      "cell_type": "code",
      "metadata": {
        "id": "OCxRk0iL6IVq",
        "colab_type": "code",
        "colab": {
          "base_uri": "https://localhost:8080/",
          "height": 68
        },
        "outputId": "4679ead1-1917-4e7b-d231-001bc17dd269"
      },
      "source": [
        "dadosClinicos.dieOrNot.value_counts()"
      ],
      "execution_count": 158,
      "outputs": [
        {
          "output_type": "execute_result",
          "data": {
            "text/plain": [
              "False    203\n",
              "True      96\n",
              "Name: dieOrNot, dtype: int64"
            ]
          },
          "metadata": {
            "tags": []
          },
          "execution_count": 158
        }
      ]
    },
    {
      "cell_type": "code",
      "metadata": {
        "id": "Z32PiIXc6NmD",
        "colab_type": "code",
        "colab": {
          "base_uri": "https://localhost:8080/",
          "height": 281
        },
        "outputId": "78553b3d-d082-4a68-834f-98d161242026"
      },
      "source": [
        "labelsNomesMorteOuNao = \"Não morreu\",\"Morreu\"\n",
        "plt.pie(dadosClinicos.dieOrNot.value_counts(),labels = labelsNomesMorteOuNao, autopct='%1.1f%%', shadow = True)\n",
        "plt.title('Porcentagem de Mortes')"
      ],
      "execution_count": 159,
      "outputs": [
        {
          "output_type": "execute_result",
          "data": {
            "text/plain": [
              "Text(0.5, 1.0, 'Porcentagem de Mortes')"
            ]
          },
          "metadata": {
            "tags": []
          },
          "execution_count": 159
        },
        {
          "output_type": "display_data",
          "data": {
            "image/png": "[encoded data removed]",
            "text/plain": [
              "<Figure size 432x288 with 1 Axes>"
            ]
          },
          "metadata": {
            "tags": []
          }
        }
      ]
    },
    {
      "cell_type": "code",
      "metadata": {
        "id": "t9ui2YTp6Nql",
        "colab_type": "code",
        "colab": {
          "base_uri": "https://localhost:8080/",
          "height": 298
        },
        "outputId": "b02e5b76-8311-4fb6-b6e6-18fc8f2959fd"
      },
      "source": [
        "# Quantidade\n",
        "plt.bar(labelsNomesMorteOuNao,dadosClinicos.dieOrNot.value_counts())\n",
        "plt.ylabel('Quantidade')\n",
        "plt.title('Quantidade de Mortes')"
      ],
      "execution_count": 160,
      "outputs": [
        {
          "output_type": "execute_result",
          "data": {
            "text/plain": [
              "Text(0.5, 1.0, 'Quantidade de Mortes')"
            ]
          },
          "metadata": {
            "tags": []
          },
          "execution_count": 160
        },
        {
          "output_type": "display_data",
          "data": {
            "image/png": "[encoded data removed]",
            "text/plain": [
              "<Figure size 432x288 with 1 Axes>"
            ]
          },
          "metadata": {
            "tags": [],
            "needs_background": "light"
          }
        }
      ]
    },
    {
      "cell_type": "code",
      "metadata": {
        "id": "mLd7_JVE6Nuw",
        "colab_type": "code",
        "colab": {
          "base_uri": "https://localhost:8080/",
          "height": 441
        },
        "outputId": "5d2fa74e-c21f-42c3-82ff-f8717a23e71f"
      },
      "source": [
        "# Análise multivariada (duas ou mais varíaveis). \n",
        "# Correlação entre variáveis. \n",
        "# Correlação varia entre -1 (correlação negativa: uma diminui, outra aumenta) a 1 (correlação positiva, ambas\n",
        "# variáveis vão no mesmo sentido). Correlação identifica o relacionamento linear entre variáveis, o que \n",
        "# não significa causalidade.\n",
        "# corr() = a correlação de Pearson\n",
        "dadosClinicos.corr()"
      ],
      "execution_count": 161,
      "outputs": [
        {
          "output_type": "execute_result",
          "data": {
            "text/html": [
              "<div>\n",
              "<style scoped>\n",
              "    .dataframe tbody tr th:only-of-type {\n",
              "        vertical-align: middle;\n",
              "    }\n",
              "\n",
              "    .dataframe tbody tr th {\n",
              "        vertical-align: top;\n",
              "    }\n",
              "\n",
              "    .dataframe thead th {\n",
              "        text-align: right;\n",
              "    }\n",
              "</style>\n",
              "<table border=\"1\" class=\"dataframe\">\n",
              "  <thead>\n",
              "    <tr style=\"text-align: right;\">\n",
              "      <th></th>\n",
              "      <th>age</th>\n",
              "      <th>anaemia</th>\n",
              "      <th>creatinine_phosphokinase</th>\n",
              "      <th>diabetes</th>\n",
              "      <th>ejection_fraction</th>\n",
              "      <th>high_blood_pressure</th>\n",
              "      <th>platelets</th>\n",
              "      <th>serum_creatinine</th>\n",
              "      <th>serum_sodium</th>\n",
              "      <th>smoking</th>\n",
              "      <th>time</th>\n",
              "      <th>dieOrNot</th>\n",
              "    </tr>\n",
              "  </thead>\n",
              "  <tbody>\n",
              "    <tr>\n",
              "      <th>age</th>\n",
              "      <td>1.000000</td>\n",
              "      <td>0.087574</td>\n",
              "      <td>-0.081406</td>\n",
              "      <td>-0.101454</td>\n",
              "      <td>0.060195</td>\n",
              "      <td>0.093170</td>\n",
              "      <td>-0.052475</td>\n",
              "      <td>0.159237</td>\n",
              "      <td>-0.045912</td>\n",
              "      <td>0.018926</td>\n",
              "      <td>-0.224265</td>\n",
              "      <td>0.253581</td>\n",
              "    </tr>\n",
              "    <tr>\n",
              "      <th>anaemia</th>\n",
              "      <td>0.087574</td>\n",
              "      <td>1.000000</td>\n",
              "      <td>-0.190741</td>\n",
              "      <td>-0.012729</td>\n",
              "      <td>0.031557</td>\n",
              "      <td>0.038182</td>\n",
              "      <td>-0.043786</td>\n",
              "      <td>0.052174</td>\n",
              "      <td>0.041882</td>\n",
              "      <td>-0.107290</td>\n",
              "      <td>-0.141414</td>\n",
              "      <td>0.066270</td>\n",
              "    </tr>\n",
              "    <tr>\n",
              "      <th>creatinine_phosphokinase</th>\n",
              "      <td>-0.081406</td>\n",
              "      <td>-0.190741</td>\n",
              "      <td>1.000000</td>\n",
              "      <td>-0.009639</td>\n",
              "      <td>-0.044080</td>\n",
              "      <td>-0.070590</td>\n",
              "      <td>0.024463</td>\n",
              "      <td>-0.016408</td>\n",
              "      <td>0.059550</td>\n",
              "      <td>0.002421</td>\n",
              "      <td>-0.009346</td>\n",
              "      <td>0.062728</td>\n",
              "    </tr>\n",
              "    <tr>\n",
              "      <th>diabetes</th>\n",
              "      <td>-0.101454</td>\n",
              "      <td>-0.012729</td>\n",
              "      <td>-0.009639</td>\n",
              "      <td>1.000000</td>\n",
              "      <td>-0.004850</td>\n",
              "      <td>-0.012732</td>\n",
              "      <td>0.092193</td>\n",
              "      <td>-0.046975</td>\n",
              "      <td>-0.089551</td>\n",
              "      <td>-0.147173</td>\n",
              "      <td>0.033726</td>\n",
              "      <td>-0.001943</td>\n",
              "    </tr>\n",
              "    <tr>\n",
              "      <th>ejection_fraction</th>\n",
              "      <td>0.060195</td>\n",
              "      <td>0.031557</td>\n",
              "      <td>-0.044080</td>\n",
              "      <td>-0.004850</td>\n",
              "      <td>1.000000</td>\n",
              "      <td>0.024445</td>\n",
              "      <td>0.072177</td>\n",
              "      <td>-0.011302</td>\n",
              "      <td>0.175902</td>\n",
              "      <td>-0.067315</td>\n",
              "      <td>0.041729</td>\n",
              "      <td>-0.268603</td>\n",
              "    </tr>\n",
              "    <tr>\n",
              "      <th>high_blood_pressure</th>\n",
              "      <td>0.093170</td>\n",
              "      <td>0.038182</td>\n",
              "      <td>-0.070590</td>\n",
              "      <td>-0.012732</td>\n",
              "      <td>0.024445</td>\n",
              "      <td>1.000000</td>\n",
              "      <td>0.049963</td>\n",
              "      <td>-0.004935</td>\n",
              "      <td>0.037109</td>\n",
              "      <td>-0.055711</td>\n",
              "      <td>-0.196439</td>\n",
              "      <td>0.079351</td>\n",
              "    </tr>\n",
              "    <tr>\n",
              "      <th>platelets</th>\n",
              "      <td>-0.052475</td>\n",
              "      <td>-0.043786</td>\n",
              "      <td>0.024463</td>\n",
              "      <td>0.092193</td>\n",
              "      <td>0.072177</td>\n",
              "      <td>0.049963</td>\n",
              "      <td>1.000000</td>\n",
              "      <td>-0.041198</td>\n",
              "      <td>0.062125</td>\n",
              "      <td>0.028234</td>\n",
              "      <td>0.010514</td>\n",
              "      <td>-0.049139</td>\n",
              "    </tr>\n",
              "    <tr>\n",
              "      <th>serum_creatinine</th>\n",
              "      <td>0.159237</td>\n",
              "      <td>0.052174</td>\n",
              "      <td>-0.016408</td>\n",
              "      <td>-0.046975</td>\n",
              "      <td>-0.011302</td>\n",
              "      <td>-0.004935</td>\n",
              "      <td>-0.041198</td>\n",
              "      <td>1.000000</td>\n",
              "      <td>-0.189095</td>\n",
              "      <td>-0.027414</td>\n",
              "      <td>-0.149315</td>\n",
              "      <td>0.294278</td>\n",
              "    </tr>\n",
              "    <tr>\n",
              "      <th>serum_sodium</th>\n",
              "      <td>-0.045912</td>\n",
              "      <td>0.041882</td>\n",
              "      <td>0.059550</td>\n",
              "      <td>-0.089551</td>\n",
              "      <td>0.175902</td>\n",
              "      <td>0.037109</td>\n",
              "      <td>0.062125</td>\n",
              "      <td>-0.189095</td>\n",
              "      <td>1.000000</td>\n",
              "      <td>0.004813</td>\n",
              "      <td>0.087640</td>\n",
              "      <td>-0.195204</td>\n",
              "    </tr>\n",
              "    <tr>\n",
              "      <th>smoking</th>\n",
              "      <td>0.018926</td>\n",
              "      <td>-0.107290</td>\n",
              "      <td>0.002421</td>\n",
              "      <td>-0.147173</td>\n",
              "      <td>-0.067315</td>\n",
              "      <td>-0.055711</td>\n",
              "      <td>0.028234</td>\n",
              "      <td>-0.027414</td>\n",
              "      <td>0.004813</td>\n",
              "      <td>1.000000</td>\n",
              "      <td>-0.022839</td>\n",
              "      <td>-0.012623</td>\n",
              "    </tr>\n",
              "    <tr>\n",
              "      <th>time</th>\n",
              "      <td>-0.224265</td>\n",
              "      <td>-0.141414</td>\n",
              "      <td>-0.009346</td>\n",
              "      <td>0.033726</td>\n",
              "      <td>0.041729</td>\n",
              "      <td>-0.196439</td>\n",
              "      <td>0.010514</td>\n",
              "      <td>-0.149315</td>\n",
              "      <td>0.087640</td>\n",
              "      <td>-0.022839</td>\n",
              "      <td>1.000000</td>\n",
              "      <td>-0.526964</td>\n",
              "    </tr>\n",
              "    <tr>\n",
              "      <th>dieOrNot</th>\n",
              "      <td>0.253581</td>\n",
              "      <td>0.066270</td>\n",
              "      <td>0.062728</td>\n",
              "      <td>-0.001943</td>\n",
              "      <td>-0.268603</td>\n",
              "      <td>0.079351</td>\n",
              "      <td>-0.049139</td>\n",
              "      <td>0.294278</td>\n",
              "      <td>-0.195204</td>\n",
              "      <td>-0.012623</td>\n",
              "      <td>-0.526964</td>\n",
              "      <td>1.000000</td>\n",
              "    </tr>\n",
              "  </tbody>\n",
              "</table>\n",
              "</div>"
            ],
            "text/plain": [
              "                               age   anaemia  ...      time  dieOrNot\n",
              "age                       1.000000  0.087574  ... -0.224265  0.253581\n",
              "anaemia                   0.087574  1.000000  ... -0.141414  0.066270\n",
              "creatinine_phosphokinase -0.081406 -0.190741  ... -0.009346  0.062728\n",
              "diabetes                 -0.101454 -0.012729  ...  0.033726 -0.001943\n",
              "ejection_fraction         0.060195  0.031557  ...  0.041729 -0.268603\n",
              "high_blood_pressure       0.093170  0.038182  ... -0.196439  0.079351\n",
              "platelets                -0.052475 -0.043786  ...  0.010514 -0.049139\n",
              "serum_creatinine          0.159237  0.052174  ... -0.149315  0.294278\n",
              "serum_sodium             -0.045912  0.041882  ...  0.087640 -0.195204\n",
              "smoking                   0.018926 -0.107290  ... -0.022839 -0.012623\n",
              "time                     -0.224265 -0.141414  ...  1.000000 -0.526964\n",
              "dieOrNot                  0.253581  0.066270  ... -0.526964  1.000000\n",
              "\n",
              "[12 rows x 12 columns]"
            ]
          },
          "metadata": {
            "tags": []
          },
          "execution_count": 161
        }
      ]
    },
    {
      "cell_type": "code",
      "metadata": {
        "id": "K5YW8-Oi6NtO",
        "colab_type": "code",
        "colab": {
          "base_uri": "https://localhost:8080/",
          "height": 510
        },
        "outputId": "7a19f690-a1e9-4478-85e0-ef5e0bfd0199"
      },
      "source": [
        "# Gráfico de correlação\n",
        "plt.figure(figsize=(10, 6))\n",
        "sns.heatmap(dadosClinicos.corr(),\n",
        "            annot = True,\n",
        "            fmt = '.2f',\n",
        "            cmap='Blues')\n",
        "plt.title('Correlação entre variáveis do dataset de dadosClinicos')\n",
        "plt.show()\n",
        "# As correlação estão fracas, considere que boas seriam em torno de 70% ..."
      ],
      "execution_count": 162,
      "outputs": [
        {
          "output_type": "display_data",
          "data": {
            "image/png": "[encoded data removed]",
            "text/plain": [
              "<Figure size 720x432 with 2 Axes>"
            ]
          },
          "metadata": {
            "tags": [],
            "needs_background": "light"
          }
        }
      ]
    },
    {
      "cell_type": "code",
      "metadata": {
        "id": "sgyeEwrH6Noz",
        "colab_type": "code",
        "colab": {}
      },
      "source": [
        "# Análise: idade e nível de creatinine_phosphokinase     "
      ],
      "execution_count": 163,
      "outputs": []
    },
    {
      "cell_type": "code",
      "metadata": {
        "id": "v4xEwOkw6Wwl",
        "colab_type": "code",
        "colab": {
          "base_uri": "https://localhost:8080/",
          "height": 312
        },
        "outputId": "4c1cef73-f60a-44c4-b0a3-809cd9189c6e"
      },
      "source": [
        "# Comprovando a correlação, por exemplo, entre age e creatinine_phosphokinase, que está muito fraca\n",
        "plt.scatter(dadosClinicos.age,dadosClinicos.creatinine_phosphokinase)\n",
        "plt.xlabel(\"Idade\")\n",
        "plt.ylabel(\"Nível creatinina sérica no sangue (mg / dL)\")\n",
        "plt.title('Relação Idade x Nível de creatinina sérica')"
      ],
      "execution_count": 164,
      "outputs": [
        {
          "output_type": "execute_result",
          "data": {
            "text/plain": [
              "Text(0.5, 1.0, 'Relação Idade x Nível de creatinina sérica')"
            ]
          },
          "metadata": {
            "tags": []
          },
          "execution_count": 164
        },
        {
          "output_type": "display_data",
          "data": {
            "image/png": "[encoded data removed]",
            "text/plain": [
              "<Figure size 432x288 with 1 Axes>"
            ]
          },
          "metadata": {
            "tags": [],
            "needs_background": "light"
          }
        }
      ]
    },
    {
      "cell_type": "code",
      "metadata": {
        "id": "QLfMcMeL6W1r",
        "colab_type": "code",
        "colab": {
          "base_uri": "https://localhost:8080/",
          "height": 312
        },
        "outputId": "a061806e-6b6b-45fe-9a6a-4593f252f350"
      },
      "source": [
        "# Análise: idade x nível de ejection_fraction\n",
        "# Comprovando a correlação, por exemplo, entre age e ejection_fraction, que está muito fraca\n",
        "plt.scatter(dadosClinicos.age,dadosClinicos.ejection_fraction)\n",
        "plt.xlabel(\"Idade\")\n",
        "plt.ylabel(\"Nível de sódio sérico no sangue (mEq / L)\")\n",
        "plt.title(\"Nível de sódio sérico no sangue (mEq / L)\")"
      ],
      "execution_count": 165,
      "outputs": [
        {
          "output_type": "execute_result",
          "data": {
            "text/plain": [
              "Text(0.5, 1.0, 'Nível de sódio sérico no sangue (mEq / L)')"
            ]
          },
          "metadata": {
            "tags": []
          },
          "execution_count": 165
        },
        {
          "output_type": "display_data",
          "data": {
            "image/png": "[encoded data removed]",
            "text/plain": [
              "<Figure size 432x288 with 1 Axes>"
            ]
          },
          "metadata": {
            "tags": [],
            "needs_background": "light"
          }
        }
      ]
    },
    {
      "cell_type": "code",
      "metadata": {
        "id": "FcRn3Zcd6W9f",
        "colab_type": "code",
        "colab": {
          "base_uri": "https://localhost:8080/",
          "height": 312
        },
        "outputId": "8529e036-459c-413c-e108-161ad268093c"
      },
      "source": [
        "# Análise: idades x plaquetas\n",
        "# Comprovando a correlação, por exemplo, entre age e plaquetas, que está muito fraca\n",
        "plt.scatter(dadosClinicos.age,dadosClinicos.platelets)\n",
        "plt.xlabel(\"Idade\")\n",
        "plt.ylabel(\"Plaquetas (mg/mL) no sangue)\")\n",
        "plt.title(\"Nível Plaquetas (mg/mL) no sangue por idade\")"
      ],
      "execution_count": 166,
      "outputs": [
        {
          "output_type": "execute_result",
          "data": {
            "text/plain": [
              "Text(0.5, 1.0, 'Nível Plaquetas (mg/mL) no sangue por idade')"
            ]
          },
          "metadata": {
            "tags": []
          },
          "execution_count": 166
        },
        {
          "output_type": "display_data",
          "data": {
            "image/png": "[encoded data removed]",
            "text/plain": [
              "<Figure size 432x288 with 1 Axes>"
            ]
          },
          "metadata": {
            "tags": [],
            "needs_background": "light"
          }
        }
      ]
    },
    {
      "cell_type": "code",
      "metadata": {
        "id": "H1hZSt-R6W72",
        "colab_type": "code",
        "colab": {
          "base_uri": "https://localhost:8080/",
          "height": 312
        },
        "outputId": "d16a2356-d7a0-4dca-8c63-ba7da36016e0"
      },
      "source": [
        "# Análise: idades x serum_creatinine\n",
        "# Comprovando a correlação, por exemplo, entre age e serum_creatinine, que está muito fraca\n",
        "plt.scatter(dadosClinicos.age,dadosClinicos.serum_creatinine)\n",
        "plt.xlabel(\"Idade\")\n",
        "plt.ylabel(\"Plaquetas (mg/mL) no sangue)\")\n",
        "plt.title(\"Nível serum_creatinine'enzima CPK' (mg/mL)  por idade\")"
      ],
      "execution_count": 167,
      "outputs": [
        {
          "output_type": "execute_result",
          "data": {
            "text/plain": [
              "Text(0.5, 1.0, \"Nível serum_creatinine'enzima CPK' (mg/mL)  por idade\")"
            ]
          },
          "metadata": {
            "tags": []
          },
          "execution_count": 167
        },
        {
          "output_type": "display_data",
          "data": {
            "image/png": "[encoded data removed]",
            "text/plain": [
              "<Figure size 432x288 with 1 Axes>"
            ]
          },
          "metadata": {
            "tags": [],
            "needs_background": "light"
          }
        }
      ]
    },
    {
      "cell_type": "code",
      "metadata": {
        "id": "U1C_xP9h6W6l",
        "colab_type": "code",
        "colab": {
          "base_uri": "https://localhost:8080/",
          "height": 312
        },
        "outputId": "237c6824-7bdf-4580-a22b-ca8bb6a5f91d"
      },
      "source": [
        "# Análise: idades x serum_sodium \n",
        "# Comprovando a correlação, por exemplo, entre age e serum_creatinine, que está muito fraca\n",
        "plt.scatter(dadosClinicos.age,dadosClinicos.serum_sodium)\n",
        "plt.xlabel(\"Idade\")\n",
        "plt.ylabel(\"Porcentagem de Serum_sodium no sangue\")\n",
        "plt.title(\"Nível serum_sodium por idade\")"
      ],
      "execution_count": 168,
      "outputs": [
        {
          "output_type": "execute_result",
          "data": {
            "text/plain": [
              "Text(0.5, 1.0, 'Nível serum_sodium por idade')"
            ]
          },
          "metadata": {
            "tags": []
          },
          "execution_count": 168
        },
        {
          "output_type": "display_data",
          "data": {
            "image/png": "[encoded data removed]",
            "text/plain": [
              "<Figure size 432x288 with 1 Axes>"
            ]
          },
          "metadata": {
            "tags": [],
            "needs_background": "light"
          }
        }
      ]
    },
    {
      "cell_type": "code",
      "metadata": {
        "id": "2lcsdOmZ6Wzv",
        "colab_type": "code",
        "colab": {
          "base_uri": "https://localhost:8080/",
          "height": 456
        },
        "outputId": "eafa335c-9959-4a88-9846-bab5f06b6496"
      },
      "source": [
        "# Contar quantos tem anaemia categorizando por sexo\n",
        "anaemia_map = {0: 'Não tem', 1: 'Tem'}\n",
        "sns.factorplot('anaemia',data = dadosClinicos, kind='count',hue = 'sex').set_xticklabels(anaemia_map.values())\n",
        "plt.ylabel('Quantidade')\n",
        "plt.xlabel('Anaemia')\n",
        "plt.title('Contagem de Pacientes Anémicos por Sexo')"
      ],
      "execution_count": 169,
      "outputs": [
        {
          "output_type": "stream",
          "text": [
            "/usr/local/lib/python3.6/dist-packages/seaborn/categorical.py:3666: UserWarning: The `factorplot` function has been renamed to `catplot`. The original name will be removed in a future release. Please update your code. Note that the default `kind` in `factorplot` (`'point'`) has changed `'strip'` in `catplot`.\n",
            "  warnings.warn(msg)\n"
          ],
          "name": "stderr"
        },
        {
          "output_type": "execute_result",
          "data": {
            "text/plain": [
              "Text(0.5, 1.0, 'Contagem de Pacientes Anémicos por Sexo')"
            ]
          },
          "metadata": {
            "tags": []
          },
          "execution_count": 169
        },
        {
          "output_type": "display_data",
          "data": {
            "image/png": "[encoded data removed]",
            "text/plain": [
              "<Figure size 404.625x360 with 1 Axes>"
            ]
          },
          "metadata": {
            "tags": [],
            "needs_background": "light"
          }
        }
      ]
    },
    {
      "cell_type": "code",
      "metadata": {
        "id": "x-RLm3yL6jES",
        "colab_type": "code",
        "colab": {
          "base_uri": "https://localhost:8080/",
          "height": 456
        },
        "outputId": "644c6bd1-5d60-44cd-e3fc-f67b11fc87e8"
      },
      "source": [
        "# Contar quantos são diabéticos por sexo \n",
        "diabete_map = {0: 'Não tem', 1: 'Tem'}\n",
        "sns.factorplot('diabetes',data = dadosClinicos, kind='count',hue = 'sex').set_xticklabels(diabete_map.values())\n",
        "plt.ylabel('Quantidade')\n",
        "plt.xlabel('Diabetes')\n",
        "plt.title('Contagem de Pacientes Diabéticos por Sexo')"
      ],
      "execution_count": 170,
      "outputs": [
        {
          "output_type": "stream",
          "text": [
            "/usr/local/lib/python3.6/dist-packages/seaborn/categorical.py:3666: UserWarning: The `factorplot` function has been renamed to `catplot`. The original name will be removed in a future release. Please update your code. Note that the default `kind` in `factorplot` (`'point'`) has changed `'strip'` in `catplot`.\n",
            "  warnings.warn(msg)\n"
          ],
          "name": "stderr"
        },
        {
          "output_type": "execute_result",
          "data": {
            "text/plain": [
              "Text(0.5, 1.0, 'Contagem de Pacientes Diabéticos por Sexo')"
            ]
          },
          "metadata": {
            "tags": []
          },
          "execution_count": 170
        },
        {
          "output_type": "display_data",
          "data": {
            "image/png": "[encoded data removed]",
            "text/plain": [
              "<Figure size 404.625x360 with 1 Axes>"
            ]
          },
          "metadata": {
            "tags": [],
            "needs_background": "light"
          }
        }
      ]
    },
    {
      "cell_type": "code",
      "metadata": {
        "id": "ZSa60l-26jIn",
        "colab_type": "code",
        "colab": {
          "base_uri": "https://localhost:8080/",
          "height": 456
        },
        "outputId": "04c17ab2-9874-4786-911a-4a22afbb78a3"
      },
      "source": [
        "# Contagem de Pacientes Fumantes por Sexo\n",
        "fumantes_map = {0: 'Não é fumante', 1: 'É fumante'}\n",
        "sns.factorplot('smoking',data = dadosClinicos, kind='count',hue = 'sex').set_xticklabels(fumantes_map.values())\n",
        "plt.ylabel('Quantidade')\n",
        "plt.xlabel('Fumantes')\n",
        "plt.title('Contagem de Pacientes Fumantes por Sexo')"
      ],
      "execution_count": 171,
      "outputs": [
        {
          "output_type": "stream",
          "text": [
            "/usr/local/lib/python3.6/dist-packages/seaborn/categorical.py:3666: UserWarning: The `factorplot` function has been renamed to `catplot`. The original name will be removed in a future release. Please update your code. Note that the default `kind` in `factorplot` (`'point'`) has changed `'strip'` in `catplot`.\n",
            "  warnings.warn(msg)\n"
          ],
          "name": "stderr"
        },
        {
          "output_type": "execute_result",
          "data": {
            "text/plain": [
              "Text(0.5, 1.0, 'Contagem de Pacientes Fumantes por Sexo')"
            ]
          },
          "metadata": {
            "tags": []
          },
          "execution_count": 171
        },
        {
          "output_type": "display_data",
          "data": {
            "image/png": "[encoded data removed]",
            "text/plain": [
              "<Figure size 404.625x360 with 1 Axes>"
            ]
          },
          "metadata": {
            "tags": [],
            "needs_background": "light"
          }
        }
      ]
    },
    {
      "cell_type": "code",
      "metadata": {
        "id": "uK4sZPzs6jHG",
        "colab_type": "code",
        "colab": {
          "base_uri": "https://localhost:8080/",
          "height": 455
        },
        "outputId": "d51a7caf-7916-402d-dd90-9331edb75145"
      },
      "source": [
        "# Contar quantos tem pressão alta por sexo\n",
        "pressaoAltaouNao_map = {0: 'Não tem', 1: 'Tem pressão alta'}\n",
        "sns.factorplot('high_blood_pressure',data = dadosClinicos, kind='count',hue = 'sex').set_xticklabels(pressaoAltaouNao_map.values())\n",
        "plt.ylabel('Quantidade')\n",
        "plt.xlabel('Pressão Alta')\n",
        "plt.title('Contagem de Pacientes por Pressão Alta por Sexo')"
      ],
      "execution_count": 172,
      "outputs": [
        {
          "output_type": "stream",
          "text": [
            "/usr/local/lib/python3.6/dist-packages/seaborn/categorical.py:3666: UserWarning: The `factorplot` function has been renamed to `catplot`. The original name will be removed in a future release. Please update your code. Note that the default `kind` in `factorplot` (`'point'`) has changed `'strip'` in `catplot`.\n",
            "  warnings.warn(msg)\n"
          ],
          "name": "stderr"
        },
        {
          "output_type": "execute_result",
          "data": {
            "text/plain": [
              "Text(0.5, 1.0, 'Contagem de Pacientes por Pressão Alta por Sexo')"
            ]
          },
          "metadata": {
            "tags": []
          },
          "execution_count": 172
        },
        {
          "output_type": "display_data",
          "data": {
            "image/png": "[encoded data removed]",
            "text/plain": [
              "<Figure size 404.625x360 with 1 Axes>"
            ]
          },
          "metadata": {
            "tags": [],
            "needs_background": "light"
          }
        }
      ]
    },
    {
      "cell_type": "code",
      "metadata": {
        "id": "u49Vx8G96p_i",
        "colab_type": "code",
        "colab": {
          "base_uri": "https://localhost:8080/",
          "height": 458
        },
        "outputId": "7a56942b-52ec-4896-b50c-9465b5ecb40b"
      },
      "source": [
        "# Contar quantos morreram baseado no sexo\n",
        "morreramOuNao_map = {0: 'Não faleceu', 1: 'Faleceu'}\n",
        "sns.factorplot('dieOrNot',data = dadosClinicos, kind='count',hue = 'sex').set_xticklabels(morreramOuNao_map.values())\n",
        "plt.ylabel('Quantidade')\n",
        "plt.xlabel('Falecimentos')\n",
        "plt.title('Contagem de Órbitos por Sexo')"
      ],
      "execution_count": 173,
      "outputs": [
        {
          "output_type": "stream",
          "text": [
            "/usr/local/lib/python3.6/dist-packages/seaborn/categorical.py:3666: UserWarning: The `factorplot` function has been renamed to `catplot`. The original name will be removed in a future release. Please update your code. Note that the default `kind` in `factorplot` (`'point'`) has changed `'strip'` in `catplot`.\n",
            "  warnings.warn(msg)\n"
          ],
          "name": "stderr"
        },
        {
          "output_type": "execute_result",
          "data": {
            "text/plain": [
              "Text(0.5, 1.0, 'Contagem de Órbitos por Sexo')"
            ]
          },
          "metadata": {
            "tags": []
          },
          "execution_count": 173
        },
        {
          "output_type": "display_data",
          "data": {
            "image/png": "[encoded data removed]",
            "text/plain": [
              "<Figure size 404.625x360 with 1 Axes>"
            ]
          },
          "metadata": {
            "tags": [],
            "needs_background": "light"
          }
        }
      ]
    },
    {
      "cell_type": "code",
      "metadata": {
        "id": "YVI8kfpo6qD2",
        "colab_type": "code",
        "colab": {
          "base_uri": "https://localhost:8080/",
          "height": 332
        },
        "outputId": "f526aae7-9a31-487e-b6f1-08112527624f"
      },
      "source": [
        "# Tempo médio de acompanhamento em dias por sexo (total)\n",
        "tempoMediaAcompanhSexo = dadosClinicos.groupby(['sex']).mean()\n",
        "squarify.plot(sizes=[tempoMediaAcompanhSexo.iloc[0].time,\n",
        "                     tempoMediaAcompanhSexo.iloc[1].time], label=[\"Mulheres\", \"Homens\"], \n",
        "              color=[\"red\",\"green\"], alpha=.2)\n",
        "plt.title('Tempo Médio de Acompanhamento de Dias dos Pacientes')\n",
        "plt.axis('off')\n",
        "plt.show()\n",
        "tempoMediaAcompanhSexo.time"
      ],
      "execution_count": 174,
      "outputs": [
        {
          "output_type": "display_data",
          "data": {
            "image/png": "[encoded data removed]",
            "text/plain": [
              "<Figure size 432x288 with 1 Axes>"
            ]
          },
          "metadata": {
            "tags": [],
            "needs_background": "light"
          }
        },
        {
          "output_type": "execute_result",
          "data": {
            "text/plain": [
              "sex\n",
              "F    131.904762\n",
              "M    129.371134\n",
              "Name: time, dtype: float64"
            ]
          },
          "metadata": {
            "tags": []
          },
          "execution_count": 174
        }
      ]
    },
    {
      "cell_type": "code",
      "metadata": {
        "id": "Qh7TiWgn6qCb",
        "colab_type": "code",
        "colab": {
          "base_uri": "https://localhost:8080/",
          "height": 264
        },
        "outputId": "78b9e976-30e3-4cc6-fa31-4b201496a712"
      },
      "source": [
        "# Tempo de acompanhamento em dias por faixa de idade\n",
        "valorMin = dadosClinicos.age.min()\n",
        "valorMax = dadosClinicos.age.max()\n",
        "divParte = (valorMax - valorMin)/3\n",
        "squarify.plot(sizes=[len(dadosClinicos[dadosClinicos['age'].between(valorMin,valorMin+divParte)]),\n",
        "                     len(dadosClinicos[dadosClinicos['age'].between(valorMin+divParte,valorMin+(divParte*2))]),\n",
        "                     len(dadosClinicos[dadosClinicos['age'].between(valorMin+(divParte*2),valorMax)])\n",
        "                    ], \n",
        "              label=[\"Faixa etária 1 idade: %d a %d\" %(valorMin,valorMin+divParte), \n",
        "                     \"Faixa etária 2 idade: %d a %d\" %(valorMin+divParte,valorMin+(divParte*2)),\n",
        "                     \"Faixa etária 3 idade: %d a %d\" %(valorMin+(divParte*2),valorMax)], \n",
        "              color=[\"red\",\"green\",\"yellow\"], alpha=.3)\n",
        "plt.title('Tempo Médio de Acompanhamento de Dias dos Pacientes por Faixa Etária')\n",
        "plt.axis('off')\n",
        "plt.show()"
      ],
      "execution_count": 175,
      "outputs": [
        {
          "output_type": "display_data",
          "data": {
            "image/png": "[encoded data removed]",
            "text/plain": [
              "<Figure size 432x288 with 1 Axes>"
            ]
          },
          "metadata": {
            "tags": [],
            "needs_background": "light"
          }
        }
      ]
    }
  ]
}